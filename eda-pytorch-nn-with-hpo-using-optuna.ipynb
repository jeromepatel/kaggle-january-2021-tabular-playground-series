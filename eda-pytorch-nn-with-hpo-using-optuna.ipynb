{
 "cells": [
  {
   "cell_type": "markdown",
   "metadata": {
    "papermill": {
     "duration": 0.022373,
     "end_time": "2021-03-07T06:00:10.252221",
     "exception": false,
     "start_time": "2021-03-07T06:00:10.229848",
     "status": "completed"
    },
    "tags": []
   },
   "source": [
    "# Introduction \n",
    "\n",
    "### About the competition:\n",
    "The Tabular Playground Series March 2021 is relatively simpler, beginner-friendly competition which includes primary tabular data to play with and getting a good grasp on fundamentals.\n",
    "</br> \n",
    "This notebook demonstrates a basic pipeline using a neural network with hyper-parameter tuning using Optuna framework. We will also taking a look at visualizaion and some EDA. Finally the notebook concludes the important learnings for the competition/training."
   ]
  },
  {
   "cell_type": "code",
   "execution_count": 1,
   "metadata": {
    "execution": {
     "iopub.execute_input": "2021-03-07T06:00:10.303101Z",
     "iopub.status.busy": "2021-03-07T06:00:10.302322Z",
     "iopub.status.idle": "2021-03-07T06:00:13.912797Z",
     "shell.execute_reply": "2021-03-07T06:00:13.913387Z"
    },
    "papermill": {
     "duration": 3.640112,
     "end_time": "2021-03-07T06:00:13.913759",
     "exception": false,
     "start_time": "2021-03-07T06:00:10.273647",
     "status": "completed"
    },
    "tags": []
   },
   "outputs": [
    {
     "data": {
      "text/html": [
       "<style type='text/css'>\n",
       ".datatable table.frame { margin-bottom: 0; }\n",
       ".datatable table.frame thead { border-bottom: none; }\n",
       ".datatable table.frame tr.coltypes td {  color: #FFFFFF;  line-height: 6px;  padding: 0 0.5em;}\n",
       ".datatable .bool    { background: #DDDD99; }\n",
       ".datatable .object  { background: #565656; }\n",
       ".datatable .int     { background: #5D9E5D; }\n",
       ".datatable .float   { background: #4040CC; }\n",
       ".datatable .str     { background: #CC4040; }\n",
       ".datatable .row_index {  background: var(--jp-border-color3);  border-right: 1px solid var(--jp-border-color0);  color: var(--jp-ui-font-color3);  font-size: 9px;}\n",
       ".datatable .frame tr.coltypes .row_index {  background: var(--jp-border-color0);}\n",
       ".datatable th:nth-child(2) { padding-left: 12px; }\n",
       ".datatable .hellipsis {  color: var(--jp-cell-editor-border-color);}\n",
       ".datatable .vellipsis {  background: var(--jp-layout-color0);  color: var(--jp-cell-editor-border-color);}\n",
       ".datatable .na {  color: var(--jp-cell-editor-border-color);  font-size: 80%;}\n",
       ".datatable .footer { font-size: 9px; }\n",
       ".datatable .frame_dimensions {  background: var(--jp-border-color3);  border-top: 1px solid var(--jp-border-color0);  color: var(--jp-ui-font-color3);  display: inline-block;  opacity: 0.6;  padding: 1px 10px 1px 5px;}\n",
       "</style>\n"
      ],
      "text/plain": [
       "<IPython.core.display.HTML object>"
      ]
     },
     "metadata": {},
     "output_type": "display_data"
    }
   ],
   "source": [
    "#imports \n",
    "import numpy as np\n",
    "import pandas as pd\n",
    "from sklearn.model_selection import KFold\n",
    "from sklearn.metrics import mean_squared_error\n",
    "import sklearn.datasets\n",
    "from sklearn.metrics import *\n",
    "from sklearn.model_selection import train_test_split\n",
    "from sklearn.preprocessing import LabelEncoder\n",
    "import optuna \n",
    "import os\n",
    "#models\n",
    "import lightgbm as lgb\n",
    "import xgboost as xgb\n",
    "import torch\n",
    "from torch.nn.parallel import DistributedDataParallel as DDP\n",
    "import torch.nn as nn\n",
    "import torch.nn.functional as F\n",
    "import torch.optim as optim\n",
    "import torch.utils.data\n",
    "from torchvision import datasets\n",
    "from torchvision import transforms\n",
    "\n",
    "\n",
    "# Plots\n",
    "import seaborn as sns\n",
    "import matplotlib.pyplot as plt"
   ]
  },
  {
   "cell_type": "code",
   "execution_count": 2,
   "metadata": {
    "execution": {
     "iopub.execute_input": "2021-03-07T06:00:13.962285Z",
     "iopub.status.busy": "2021-03-07T06:00:13.961658Z",
     "iopub.status.idle": "2021-03-07T06:00:13.965278Z",
     "shell.execute_reply": "2021-03-07T06:00:13.965759Z"
    },
    "papermill": {
     "duration": 0.029162,
     "end_time": "2021-03-07T06:00:13.965940",
     "exception": false,
     "start_time": "2021-03-07T06:00:13.936778",
     "status": "completed"
    },
    "tags": []
   },
   "outputs": [],
   "source": [
    "#ignoring warnings\n",
    "import warnings\n",
    "warnings.simplefilter(action='ignore', category=FutureWarning)\n",
    "warnings.filterwarnings(\"ignore\")"
   ]
  },
  {
   "cell_type": "code",
   "execution_count": 3,
   "metadata": {
    "execution": {
     "iopub.execute_input": "2021-03-07T06:00:14.013543Z",
     "iopub.status.busy": "2021-03-07T06:00:14.012881Z",
     "iopub.status.idle": "2021-03-07T06:00:17.777139Z",
     "shell.execute_reply": "2021-03-07T06:00:17.777720Z"
    },
    "papermill": {
     "duration": 3.789943,
     "end_time": "2021-03-07T06:00:17.777922",
     "exception": false,
     "start_time": "2021-03-07T06:00:13.987979",
     "status": "completed"
    },
    "tags": []
   },
   "outputs": [],
   "source": [
    "train_df = pd.read_csv('/kaggle/input/tabular-playground-series-mar-2021/train.csv')\n",
    "test_df = pd.read_csv('/kaggle/input/tabular-playground-series-mar-2021/test.csv')\n",
    "sub_df = pd.read_csv('/kaggle/input/tabular-playground-series-mar-2021/sample_submission.csv')"
   ]
  },
  {
   "cell_type": "code",
   "execution_count": 4,
   "metadata": {
    "execution": {
     "iopub.execute_input": "2021-03-07T06:00:17.835120Z",
     "iopub.status.busy": "2021-03-07T06:00:17.834491Z",
     "iopub.status.idle": "2021-03-07T06:00:17.865225Z",
     "shell.execute_reply": "2021-03-07T06:00:17.865697Z"
    },
    "papermill": {
     "duration": 0.064724,
     "end_time": "2021-03-07T06:00:17.865873",
     "exception": false,
     "start_time": "2021-03-07T06:00:17.801149",
     "status": "completed"
    },
    "tags": []
   },
   "outputs": [
    {
     "data": {
      "text/html": [
       "<div>\n",
       "<style scoped>\n",
       "    .dataframe tbody tr th:only-of-type {\n",
       "        vertical-align: middle;\n",
       "    }\n",
       "\n",
       "    .dataframe tbody tr th {\n",
       "        vertical-align: top;\n",
       "    }\n",
       "\n",
       "    .dataframe thead th {\n",
       "        text-align: right;\n",
       "    }\n",
       "</style>\n",
       "<table border=\"1\" class=\"dataframe\">\n",
       "  <thead>\n",
       "    <tr style=\"text-align: right;\">\n",
       "      <th></th>\n",
       "      <th>id</th>\n",
       "      <th>cat0</th>\n",
       "      <th>cat1</th>\n",
       "      <th>cat2</th>\n",
       "      <th>cat3</th>\n",
       "      <th>cat4</th>\n",
       "      <th>cat5</th>\n",
       "      <th>cat6</th>\n",
       "      <th>cat7</th>\n",
       "      <th>cat8</th>\n",
       "      <th>...</th>\n",
       "      <th>cont2</th>\n",
       "      <th>cont3</th>\n",
       "      <th>cont4</th>\n",
       "      <th>cont5</th>\n",
       "      <th>cont6</th>\n",
       "      <th>cont7</th>\n",
       "      <th>cont8</th>\n",
       "      <th>cont9</th>\n",
       "      <th>cont10</th>\n",
       "      <th>target</th>\n",
       "    </tr>\n",
       "  </thead>\n",
       "  <tbody>\n",
       "    <tr>\n",
       "      <th>0</th>\n",
       "      <td>0</td>\n",
       "      <td>A</td>\n",
       "      <td>I</td>\n",
       "      <td>A</td>\n",
       "      <td>B</td>\n",
       "      <td>B</td>\n",
       "      <td>BI</td>\n",
       "      <td>A</td>\n",
       "      <td>S</td>\n",
       "      <td>Q</td>\n",
       "      <td>...</td>\n",
       "      <td>0.759439</td>\n",
       "      <td>0.795549</td>\n",
       "      <td>0.681917</td>\n",
       "      <td>0.621672</td>\n",
       "      <td>0.592184</td>\n",
       "      <td>0.791921</td>\n",
       "      <td>0.815254</td>\n",
       "      <td>0.965006</td>\n",
       "      <td>0.665915</td>\n",
       "      <td>0</td>\n",
       "    </tr>\n",
       "    <tr>\n",
       "      <th>1</th>\n",
       "      <td>1</td>\n",
       "      <td>A</td>\n",
       "      <td>I</td>\n",
       "      <td>A</td>\n",
       "      <td>A</td>\n",
       "      <td>E</td>\n",
       "      <td>BI</td>\n",
       "      <td>K</td>\n",
       "      <td>W</td>\n",
       "      <td>AD</td>\n",
       "      <td>...</td>\n",
       "      <td>0.386385</td>\n",
       "      <td>0.541366</td>\n",
       "      <td>0.388982</td>\n",
       "      <td>0.357778</td>\n",
       "      <td>0.600044</td>\n",
       "      <td>0.408701</td>\n",
       "      <td>0.399353</td>\n",
       "      <td>0.927406</td>\n",
       "      <td>0.493729</td>\n",
       "      <td>0</td>\n",
       "    </tr>\n",
       "    <tr>\n",
       "      <th>2</th>\n",
       "      <td>2</td>\n",
       "      <td>A</td>\n",
       "      <td>K</td>\n",
       "      <td>A</td>\n",
       "      <td>A</td>\n",
       "      <td>E</td>\n",
       "      <td>BI</td>\n",
       "      <td>A</td>\n",
       "      <td>E</td>\n",
       "      <td>BM</td>\n",
       "      <td>...</td>\n",
       "      <td>0.343255</td>\n",
       "      <td>0.616352</td>\n",
       "      <td>0.793687</td>\n",
       "      <td>0.552877</td>\n",
       "      <td>0.352113</td>\n",
       "      <td>0.388835</td>\n",
       "      <td>0.412303</td>\n",
       "      <td>0.292696</td>\n",
       "      <td>0.549452</td>\n",
       "      <td>0</td>\n",
       "    </tr>\n",
       "    <tr>\n",
       "      <th>3</th>\n",
       "      <td>3</td>\n",
       "      <td>A</td>\n",
       "      <td>K</td>\n",
       "      <td>A</td>\n",
       "      <td>C</td>\n",
       "      <td>E</td>\n",
       "      <td>BI</td>\n",
       "      <td>A</td>\n",
       "      <td>Y</td>\n",
       "      <td>AD</td>\n",
       "      <td>...</td>\n",
       "      <td>0.831147</td>\n",
       "      <td>0.807807</td>\n",
       "      <td>0.800032</td>\n",
       "      <td>0.619147</td>\n",
       "      <td>0.221789</td>\n",
       "      <td>0.897617</td>\n",
       "      <td>0.633669</td>\n",
       "      <td>0.760318</td>\n",
       "      <td>0.934242</td>\n",
       "      <td>0</td>\n",
       "    </tr>\n",
       "    <tr>\n",
       "      <th>4</th>\n",
       "      <td>4</td>\n",
       "      <td>A</td>\n",
       "      <td>I</td>\n",
       "      <td>G</td>\n",
       "      <td>B</td>\n",
       "      <td>E</td>\n",
       "      <td>BI</td>\n",
       "      <td>C</td>\n",
       "      <td>G</td>\n",
       "      <td>Q</td>\n",
       "      <td>...</td>\n",
       "      <td>0.338818</td>\n",
       "      <td>0.277308</td>\n",
       "      <td>0.610578</td>\n",
       "      <td>0.128291</td>\n",
       "      <td>0.578764</td>\n",
       "      <td>0.279167</td>\n",
       "      <td>0.351103</td>\n",
       "      <td>0.357084</td>\n",
       "      <td>0.328960</td>\n",
       "      <td>1</td>\n",
       "    </tr>\n",
       "  </tbody>\n",
       "</table>\n",
       "<p>5 rows × 32 columns</p>\n",
       "</div>"
      ],
      "text/plain": [
       "   id cat0 cat1 cat2 cat3 cat4 cat5 cat6 cat7 cat8  ...     cont2     cont3  \\\n",
       "0   0    A    I    A    B    B   BI    A    S    Q  ...  0.759439  0.795549   \n",
       "1   1    A    I    A    A    E   BI    K    W   AD  ...  0.386385  0.541366   \n",
       "2   2    A    K    A    A    E   BI    A    E   BM  ...  0.343255  0.616352   \n",
       "3   3    A    K    A    C    E   BI    A    Y   AD  ...  0.831147  0.807807   \n",
       "4   4    A    I    G    B    E   BI    C    G    Q  ...  0.338818  0.277308   \n",
       "\n",
       "      cont4     cont5     cont6     cont7     cont8     cont9    cont10 target  \n",
       "0  0.681917  0.621672  0.592184  0.791921  0.815254  0.965006  0.665915      0  \n",
       "1  0.388982  0.357778  0.600044  0.408701  0.399353  0.927406  0.493729      0  \n",
       "2  0.793687  0.552877  0.352113  0.388835  0.412303  0.292696  0.549452      0  \n",
       "3  0.800032  0.619147  0.221789  0.897617  0.633669  0.760318  0.934242      0  \n",
       "4  0.610578  0.128291  0.578764  0.279167  0.351103  0.357084  0.328960      1  \n",
       "\n",
       "[5 rows x 32 columns]"
      ]
     },
     "execution_count": 4,
     "metadata": {},
     "output_type": "execute_result"
    }
   ],
   "source": [
    "train_df.head()"
   ]
  },
  {
   "cell_type": "markdown",
   "metadata": {
    "papermill": {
     "duration": 0.022804,
     "end_time": "2021-03-07T06:00:17.912962",
     "exception": false,
     "start_time": "2021-03-07T06:00:17.890158",
     "status": "completed"
    },
    "tags": []
   },
   "source": [
    "Seperating training data with features from train_df"
   ]
  },
  {
   "cell_type": "code",
   "execution_count": 5,
   "metadata": {
    "execution": {
     "iopub.execute_input": "2021-03-07T06:00:17.963585Z",
     "iopub.status.busy": "2021-03-07T06:00:17.962920Z",
     "iopub.status.idle": "2021-03-07T06:00:18.158323Z",
     "shell.execute_reply": "2021-03-07T06:00:18.158840Z"
    },
    "papermill": {
     "duration": 0.222762,
     "end_time": "2021-03-07T06:00:18.159025",
     "exception": false,
     "start_time": "2021-03-07T06:00:17.936263",
     "status": "completed"
    },
    "tags": []
   },
   "outputs": [
    {
     "data": {
      "text/html": [
       "<div>\n",
       "<style scoped>\n",
       "    .dataframe tbody tr th:only-of-type {\n",
       "        vertical-align: middle;\n",
       "    }\n",
       "\n",
       "    .dataframe tbody tr th {\n",
       "        vertical-align: top;\n",
       "    }\n",
       "\n",
       "    .dataframe thead th {\n",
       "        text-align: right;\n",
       "    }\n",
       "</style>\n",
       "<table border=\"1\" class=\"dataframe\">\n",
       "  <thead>\n",
       "    <tr style=\"text-align: right;\">\n",
       "      <th></th>\n",
       "      <th>cat0</th>\n",
       "      <th>cat1</th>\n",
       "      <th>cat2</th>\n",
       "      <th>cat3</th>\n",
       "      <th>cat4</th>\n",
       "      <th>cat5</th>\n",
       "      <th>cat6</th>\n",
       "      <th>cat7</th>\n",
       "      <th>cat8</th>\n",
       "      <th>cat9</th>\n",
       "      <th>...</th>\n",
       "      <th>cont1</th>\n",
       "      <th>cont2</th>\n",
       "      <th>cont3</th>\n",
       "      <th>cont4</th>\n",
       "      <th>cont5</th>\n",
       "      <th>cont6</th>\n",
       "      <th>cont7</th>\n",
       "      <th>cont8</th>\n",
       "      <th>cont9</th>\n",
       "      <th>cont10</th>\n",
       "    </tr>\n",
       "  </thead>\n",
       "  <tbody>\n",
       "    <tr>\n",
       "      <th>0</th>\n",
       "      <td>A</td>\n",
       "      <td>I</td>\n",
       "      <td>A</td>\n",
       "      <td>B</td>\n",
       "      <td>B</td>\n",
       "      <td>BI</td>\n",
       "      <td>A</td>\n",
       "      <td>S</td>\n",
       "      <td>Q</td>\n",
       "      <td>A</td>\n",
       "      <td>...</td>\n",
       "      <td>0.855349</td>\n",
       "      <td>0.759439</td>\n",
       "      <td>0.795549</td>\n",
       "      <td>0.681917</td>\n",
       "      <td>0.621672</td>\n",
       "      <td>0.592184</td>\n",
       "      <td>0.791921</td>\n",
       "      <td>0.815254</td>\n",
       "      <td>0.965006</td>\n",
       "      <td>0.665915</td>\n",
       "    </tr>\n",
       "    <tr>\n",
       "      <th>1</th>\n",
       "      <td>A</td>\n",
       "      <td>I</td>\n",
       "      <td>A</td>\n",
       "      <td>A</td>\n",
       "      <td>E</td>\n",
       "      <td>BI</td>\n",
       "      <td>K</td>\n",
       "      <td>W</td>\n",
       "      <td>AD</td>\n",
       "      <td>F</td>\n",
       "      <td>...</td>\n",
       "      <td>0.328929</td>\n",
       "      <td>0.386385</td>\n",
       "      <td>0.541366</td>\n",
       "      <td>0.388982</td>\n",
       "      <td>0.357778</td>\n",
       "      <td>0.600044</td>\n",
       "      <td>0.408701</td>\n",
       "      <td>0.399353</td>\n",
       "      <td>0.927406</td>\n",
       "      <td>0.493729</td>\n",
       "    </tr>\n",
       "    <tr>\n",
       "      <th>2</th>\n",
       "      <td>A</td>\n",
       "      <td>K</td>\n",
       "      <td>A</td>\n",
       "      <td>A</td>\n",
       "      <td>E</td>\n",
       "      <td>BI</td>\n",
       "      <td>A</td>\n",
       "      <td>E</td>\n",
       "      <td>BM</td>\n",
       "      <td>L</td>\n",
       "      <td>...</td>\n",
       "      <td>0.322749</td>\n",
       "      <td>0.343255</td>\n",
       "      <td>0.616352</td>\n",
       "      <td>0.793687</td>\n",
       "      <td>0.552877</td>\n",
       "      <td>0.352113</td>\n",
       "      <td>0.388835</td>\n",
       "      <td>0.412303</td>\n",
       "      <td>0.292696</td>\n",
       "      <td>0.549452</td>\n",
       "    </tr>\n",
       "    <tr>\n",
       "      <th>3</th>\n",
       "      <td>A</td>\n",
       "      <td>K</td>\n",
       "      <td>A</td>\n",
       "      <td>C</td>\n",
       "      <td>E</td>\n",
       "      <td>BI</td>\n",
       "      <td>A</td>\n",
       "      <td>Y</td>\n",
       "      <td>AD</td>\n",
       "      <td>F</td>\n",
       "      <td>...</td>\n",
       "      <td>0.707663</td>\n",
       "      <td>0.831147</td>\n",
       "      <td>0.807807</td>\n",
       "      <td>0.800032</td>\n",
       "      <td>0.619147</td>\n",
       "      <td>0.221789</td>\n",
       "      <td>0.897617</td>\n",
       "      <td>0.633669</td>\n",
       "      <td>0.760318</td>\n",
       "      <td>0.934242</td>\n",
       "    </tr>\n",
       "    <tr>\n",
       "      <th>4</th>\n",
       "      <td>A</td>\n",
       "      <td>I</td>\n",
       "      <td>G</td>\n",
       "      <td>B</td>\n",
       "      <td>E</td>\n",
       "      <td>BI</td>\n",
       "      <td>C</td>\n",
       "      <td>G</td>\n",
       "      <td>Q</td>\n",
       "      <td>A</td>\n",
       "      <td>...</td>\n",
       "      <td>0.274514</td>\n",
       "      <td>0.338818</td>\n",
       "      <td>0.277308</td>\n",
       "      <td>0.610578</td>\n",
       "      <td>0.128291</td>\n",
       "      <td>0.578764</td>\n",
       "      <td>0.279167</td>\n",
       "      <td>0.351103</td>\n",
       "      <td>0.357084</td>\n",
       "      <td>0.328960</td>\n",
       "    </tr>\n",
       "  </tbody>\n",
       "</table>\n",
       "<p>5 rows × 30 columns</p>\n",
       "</div>"
      ],
      "text/plain": [
       "  cat0 cat1 cat2 cat3 cat4 cat5 cat6 cat7 cat8 cat9  ...     cont1     cont2  \\\n",
       "0    A    I    A    B    B   BI    A    S    Q    A  ...  0.855349  0.759439   \n",
       "1    A    I    A    A    E   BI    K    W   AD    F  ...  0.328929  0.386385   \n",
       "2    A    K    A    A    E   BI    A    E   BM    L  ...  0.322749  0.343255   \n",
       "3    A    K    A    C    E   BI    A    Y   AD    F  ...  0.707663  0.831147   \n",
       "4    A    I    G    B    E   BI    C    G    Q    A  ...  0.274514  0.338818   \n",
       "\n",
       "      cont3     cont4     cont5     cont6     cont7     cont8     cont9  \\\n",
       "0  0.795549  0.681917  0.621672  0.592184  0.791921  0.815254  0.965006   \n",
       "1  0.541366  0.388982  0.357778  0.600044  0.408701  0.399353  0.927406   \n",
       "2  0.616352  0.793687  0.552877  0.352113  0.388835  0.412303  0.292696   \n",
       "3  0.807807  0.800032  0.619147  0.221789  0.897617  0.633669  0.760318   \n",
       "4  0.277308  0.610578  0.128291  0.578764  0.279167  0.351103  0.357084   \n",
       "\n",
       "     cont10  \n",
       "0  0.665915  \n",
       "1  0.493729  \n",
       "2  0.549452  \n",
       "3  0.934242  \n",
       "4  0.328960  \n",
       "\n",
       "[5 rows x 30 columns]"
      ]
     },
     "execution_count": 5,
     "metadata": {},
     "output_type": "execute_result"
    }
   ],
   "source": [
    "cat_features = [f'cat{x}'for x in range(0,19)]\n",
    "cont_features = [f'cont{x}'for x in range(0,11)]\n",
    "features = cat_features + cont_features\n",
    "\n",
    "data = train_df[features]\n",
    "X_test = test_df[features]\n",
    "target = train_df['target']\n",
    "\n",
    "train_data = train_df[features]\n",
    "train_data.head()"
   ]
  },
  {
   "cell_type": "markdown",
   "metadata": {
    "papermill": {
     "duration": 0.02359,
     "end_time": "2021-03-07T06:00:18.206269",
     "exception": false,
     "start_time": "2021-03-07T06:00:18.182679",
     "status": "completed"
    },
    "tags": []
   },
   "source": [
    "## Part 1 - Automated EDA"
   ]
  },
  {
   "cell_type": "code",
   "execution_count": 6,
   "metadata": {
    "_kg_hide-output": true,
    "execution": {
     "iopub.execute_input": "2021-03-07T06:00:18.256993Z",
     "iopub.status.busy": "2021-03-07T06:00:18.256374Z",
     "iopub.status.idle": "2021-03-07T06:00:30.559896Z",
     "shell.execute_reply": "2021-03-07T06:00:30.558954Z"
    },
    "papermill": {
     "duration": 12.330032,
     "end_time": "2021-03-07T06:00:30.560064",
     "exception": false,
     "start_time": "2021-03-07T06:00:18.230032",
     "status": "completed"
    },
    "tags": []
   },
   "outputs": [
    {
     "name": "stdout",
     "output_type": "stream",
     "text": [
      "Collecting sweetviz\r\n",
      "  Downloading sweetviz-2.0.9-py3-none-any.whl (15.1 MB)\r\n",
      "\u001b[K     |████████████████████████████████| 15.1 MB 10.2 MB/s \r\n",
      "\u001b[?25hRequirement already satisfied: pandas!=1.0.0,!=1.0.1,!=1.0.2,>=0.25.3 in /opt/conda/lib/python3.7/site-packages (from sweetviz) (1.2.0)\r\n",
      "Collecting importlib-resources>=1.2.0\r\n",
      "  Downloading importlib_resources-5.1.2-py3-none-any.whl (25 kB)\r\n",
      "Requirement already satisfied: tqdm>=4.43.0 in /opt/conda/lib/python3.7/site-packages (from sweetviz) (4.55.1)\r\n",
      "Requirement already satisfied: matplotlib>=3.1.3 in /opt/conda/lib/python3.7/site-packages (from sweetviz) (3.3.3)\r\n",
      "Requirement already satisfied: scipy>=1.3.2 in /opt/conda/lib/python3.7/site-packages (from sweetviz) (1.5.4)\r\n",
      "Requirement already satisfied: jinja2>=2.11.1 in /opt/conda/lib/python3.7/site-packages (from sweetviz) (2.11.2)\r\n",
      "Requirement already satisfied: numpy>=1.16.0 in /opt/conda/lib/python3.7/site-packages (from sweetviz) (1.19.5)\r\n",
      "Requirement already satisfied: zipp>=0.4 in /opt/conda/lib/python3.7/site-packages (from importlib-resources>=1.2.0->sweetviz) (3.4.0)\r\n",
      "Requirement already satisfied: MarkupSafe>=0.23 in /opt/conda/lib/python3.7/site-packages (from jinja2>=2.11.1->sweetviz) (1.1.1)\r\n",
      "Requirement already satisfied: kiwisolver>=1.0.1 in /opt/conda/lib/python3.7/site-packages (from matplotlib>=3.1.3->sweetviz) (1.3.1)\r\n",
      "Requirement already satisfied: pyparsing!=2.0.4,!=2.1.2,!=2.1.6,>=2.0.3 in /opt/conda/lib/python3.7/site-packages (from matplotlib>=3.1.3->sweetviz) (2.4.7)\r\n",
      "Requirement already satisfied: python-dateutil>=2.1 in /opt/conda/lib/python3.7/site-packages (from matplotlib>=3.1.3->sweetviz) (2.8.1)\r\n",
      "Requirement already satisfied: pillow>=6.2.0 in /opt/conda/lib/python3.7/site-packages (from matplotlib>=3.1.3->sweetviz) (7.2.0)\r\n",
      "Requirement already satisfied: cycler>=0.10 in /opt/conda/lib/python3.7/site-packages (from matplotlib>=3.1.3->sweetviz) (0.10.0)\r\n",
      "Requirement already satisfied: six in /opt/conda/lib/python3.7/site-packages (from cycler>=0.10->matplotlib>=3.1.3->sweetviz) (1.15.0)\r\n",
      "Requirement already satisfied: pytz>=2017.3 in /opt/conda/lib/python3.7/site-packages (from pandas!=1.0.0,!=1.0.1,!=1.0.2,>=0.25.3->sweetviz) (2020.5)\r\n",
      "Installing collected packages: importlib-resources, sweetviz\r\n",
      "Successfully installed importlib-resources-5.1.2 sweetviz-2.0.9\r\n"
     ]
    }
   ],
   "source": [
    "#install sweetviz library for automated eda\n",
    "!pip install sweetviz"
   ]
  },
  {
   "cell_type": "code",
   "execution_count": 7,
   "metadata": {
    "execution": {
     "iopub.execute_input": "2021-03-07T06:00:30.657243Z",
     "iopub.status.busy": "2021-03-07T06:00:30.656581Z",
     "iopub.status.idle": "2021-03-07T06:03:42.487435Z",
     "shell.execute_reply": "2021-03-07T06:03:42.487887Z"
    },
    "papermill": {
     "duration": 191.882137,
     "end_time": "2021-03-07T06:03:42.488084",
     "exception": false,
     "start_time": "2021-03-07T06:00:30.605947",
     "status": "completed"
    },
    "tags": []
   },
   "outputs": [
    {
     "data": {
      "application/vnd.jupyter.widget-view+json": {
       "model_id": "8ed4192a6dc342e7b16abbdb26acdc22",
       "version_major": 2,
       "version_minor": 0
      },
      "text/plain": [
       "                                             |          | [  0%]   00:00 -> (? left)"
      ]
     },
     "metadata": {},
     "output_type": "display_data"
    },
    {
     "name": "stdout",
     "output_type": "stream",
     "text": [
      "Report Analysis.html was generated! NOTEBOOK/COLAB USERS: the web browser MAY not pop up, regardless, the report IS saved in your notebook/colab files.\n",
      "CPU times: user 3min 3s, sys: 7.98 s, total: 3min 11s\n",
      "Wall time: 3min 11s\n"
     ]
    }
   ],
   "source": [
    "%%time\n",
    "#analyzing data using sweetviz (automated EDA)\n",
    "import sweetviz as sv\n",
    "data_report = sv.analyze(train_df)\n",
    "data_report.show_html('Analysis.html')\n"
   ]
  },
  {
   "cell_type": "code",
   "execution_count": 8,
   "metadata": {
    "execution": {
     "iopub.execute_input": "2021-03-07T06:03:42.586338Z",
     "iopub.status.busy": "2021-03-07T06:03:42.585279Z",
     "iopub.status.idle": "2021-03-07T06:03:42.590036Z",
     "shell.execute_reply": "2021-03-07T06:03:42.589422Z"
    },
    "papermill": {
     "duration": 0.056664,
     "end_time": "2021-03-07T06:03:42.590175",
     "exception": false,
     "start_time": "2021-03-07T06:03:42.533511",
     "status": "completed"
    },
    "tags": []
   },
   "outputs": [
    {
     "data": {
      "text/html": [
       "\n",
       "        <iframe\n",
       "            width=\"1000\"\n",
       "            height=\"600\"\n",
       "            src=\"Analysis.html\"\n",
       "            frameborder=\"0\"\n",
       "            allowfullscreen\n",
       "        ></iframe>\n",
       "        "
      ],
      "text/plain": [
       "<IPython.lib.display.IFrame at 0x7f09159ae310>"
      ]
     },
     "execution_count": 8,
     "metadata": {},
     "output_type": "execute_result"
    }
   ],
   "source": [
    "from IPython.display import IFrame\n",
    "IFrame(src = 'Analysis.html',width=1000,height=600)"
   ]
  },
  {
   "cell_type": "markdown",
   "metadata": {
    "papermill": {
     "duration": 0.045733,
     "end_time": "2021-03-07T06:03:42.682145",
     "exception": false,
     "start_time": "2021-03-07T06:03:42.636412",
     "status": "completed"
    },
    "tags": []
   },
   "source": [
    "There are a few conclusions we can make from this EDA:\n",
    "* No feature contains missing/Null values\n",
    "* There are 19 categorical features, 11 categorical features and 1 target which takes only two values (true/false or 0/1)\n",
    "* cat2, cat3, cat4, cat5, cat6 and cat9 has small portion of distinct values(Hypothesis: - which can be encoded as \"others\" without affecting significant performace)\n",
    "* The range of continuous variable are relative same which means we don't need to change the distribution of them."
   ]
  },
  {
   "cell_type": "markdown",
   "metadata": {
    "papermill": {
     "duration": 0.045577,
     "end_time": "2021-03-07T06:03:42.773700",
     "exception": false,
     "start_time": "2021-03-07T06:03:42.728123",
     "status": "completed"
    },
    "tags": []
   },
   "source": [
    "## Part 2 - Training Data Visualization\n",
    "\n",
    "Let's take a quick look at training data distribution and what can we learn more about them."
   ]
  },
  {
   "cell_type": "code",
   "execution_count": 9,
   "metadata": {
    "execution": {
     "iopub.execute_input": "2021-03-07T06:03:42.888756Z",
     "iopub.status.busy": "2021-03-07T06:03:42.871920Z",
     "iopub.status.idle": "2021-03-07T06:03:43.055467Z",
     "shell.execute_reply": "2021-03-07T06:03:43.055936Z"
    },
    "papermill": {
     "duration": 0.23672,
     "end_time": "2021-03-07T06:03:43.056115",
     "exception": false,
     "start_time": "2021-03-07T06:03:42.819395",
     "status": "completed"
    },
    "tags": []
   },
   "outputs": [
    {
     "data": {
      "image/png": "[encoded data removed]",
      "text/plain": [
       "<Figure size 800x700 with 1 Axes>"
      ]
     },
     "metadata": {},
     "output_type": "display_data"
    }
   ],
   "source": [
    "#setting up the platform\n",
    "sns.set_style(\"white\")\n",
    "sns.set_color_codes(palette='deep')\n",
    "f, ax = plt.subplots(figsize=(8, 7))\n",
    "\n",
    "sns.countplot(target, color=\"g\")\n",
    "ax.xaxis.grid(False)\n",
    "ax.set(ylabel=\"Values\")\n",
    "ax.set(xlabel=\"Target\")\n",
    "ax.set(title=\"Target values distribution\")\n",
    "sns.despine(trim=True, left=True)\n",
    "plt.show()"
   ]
  },
  {
   "cell_type": "markdown",
   "metadata": {
    "papermill": {
     "duration": 0.046693,
     "end_time": "2021-03-07T06:03:43.150738",
     "exception": false,
     "start_time": "2021-03-07T06:03:43.104045",
     "status": "completed"
    },
    "tags": []
   },
   "source": [
    "Comparing train and test data distribution for continuous variables "
   ]
  },
  {
   "cell_type": "code",
   "execution_count": 10,
   "metadata": {
    "execution": {
     "iopub.execute_input": "2021-03-07T06:03:43.310813Z",
     "iopub.status.busy": "2021-03-07T06:03:43.287462Z",
     "iopub.status.idle": "2021-03-07T06:04:19.984021Z",
     "shell.execute_reply": "2021-03-07T06:04:19.984571Z"
    },
    "papermill": {
     "duration": 36.786042,
     "end_time": "2021-03-07T06:04:19.984752",
     "exception": false,
     "start_time": "2021-03-07T06:03:43.198710",
     "status": "completed"
    },
    "tags": []
   },
   "outputs": [
    {
     "data": {
      "text/plain": [
       "<Figure size 600x400 with 0 Axes>"
      ]
     },
     "metadata": {},
     "output_type": "display_data"
    },
    {
     "data": {
      "image/png": "[encoded data removed]",
      "text/plain": [
       "<Figure size 1400x2000 with 12 Axes>"
      ]
     },
     "metadata": {},
     "output_type": "display_data"
    }
   ],
   "source": [
    "\n",
    "# we will look into the features distribution now, to get insight into the data\n",
    "plt.figure()\n",
    "fig, ax = plt.subplots(4, 3,figsize=(14, 20))\n",
    "for i,feature in enumerate(cont_features):\n",
    "    plt.subplot(4, 3,i+1)\n",
    "    sns.distplot(train_data[feature],color=\"blue\", kde=True,bins=120, label='train')\n",
    "    sns.distplot(test_df[feature],color=\"red\", kde=True,bins=120, label='test')\n",
    "    plt.xlabel(feature, fontsize=9); plt.legend()\n",
    "plt.show()\n",
    "\n"
   ]
  },
  {
   "cell_type": "markdown",
   "metadata": {
    "papermill": {
     "duration": 0.054807,
     "end_time": "2021-03-07T06:04:20.094710",
     "exception": false,
     "start_time": "2021-03-07T06:04:20.039903",
     "status": "completed"
    },
    "tags": []
   },
   "source": [
    "It seems that the distribution for train and test set matches, meaning the data is sampled from the same distribution which is good for us."
   ]
  },
  {
   "cell_type": "code",
   "execution_count": 11,
   "metadata": {
    "execution": {
     "iopub.execute_input": "2021-03-07T06:04:20.211267Z",
     "iopub.status.busy": "2021-03-07T06:04:20.210646Z",
     "iopub.status.idle": "2021-03-07T06:04:20.724864Z",
     "shell.execute_reply": "2021-03-07T06:04:20.725383Z"
    },
    "papermill": {
     "duration": 0.575473,
     "end_time": "2021-03-07T06:04:20.725571",
     "exception": false,
     "start_time": "2021-03-07T06:04:20.150098",
     "status": "completed"
    },
    "tags": []
   },
   "outputs": [
    {
     "data": {
      "text/plain": [
       "<AxesSubplot:>"
      ]
     },
     "execution_count": 11,
     "metadata": {},
     "output_type": "execute_result"
    },
    {
     "data": {
      "image/png": "[encoded data removed]",
      "text/plain": [
       "<Figure size 1500x1200 with 2 Axes>"
      ]
     },
     "metadata": {},
     "output_type": "display_data"
    }
   ],
   "source": [
    "#we will take a look at the correlation of features\n",
    "corr = train_data.corr()\n",
    "plt.subplots(figsize=(15,12))\n",
    "sns.heatmap(corr, vmax=0.9, cmap=\"inferno\", square=True)"
   ]
  },
  {
   "cell_type": "markdown",
   "metadata": {
    "papermill": {
     "duration": 0.056351,
     "end_time": "2021-03-07T06:04:20.838721",
     "exception": false,
     "start_time": "2021-03-07T06:04:20.782370",
     "status": "completed"
    },
    "tags": []
   },
   "source": [
    "## Part 3 - Feature Engineering"
   ]
  },
  {
   "cell_type": "markdown",
   "metadata": {
    "papermill": {
     "duration": 0.057347,
     "end_time": "2021-03-07T06:04:20.952784",
     "exception": false,
     "start_time": "2021-03-07T06:04:20.895437",
     "status": "completed"
    },
    "tags": []
   },
   "source": [
    "First we will remove redundant values in categorical features by applying and filtering others function from values, then we will label encode them to use as numeric features for our training dataset."
   ]
  },
  {
   "cell_type": "code",
   "execution_count": 12,
   "metadata": {
    "execution": {
     "iopub.execute_input": "2021-03-07T06:04:21.071295Z",
     "iopub.status.busy": "2021-03-07T06:04:21.070666Z",
     "iopub.status.idle": "2021-03-07T06:04:22.844917Z",
     "shell.execute_reply": "2021-03-07T06:04:22.845556Z"
    },
    "papermill": {
     "duration": 1.835088,
     "end_time": "2021-03-07T06:04:22.845779",
     "exception": false,
     "start_time": "2021-03-07T06:04:21.010691",
     "status": "completed"
    },
    "tags": []
   },
   "outputs": [],
   "source": [
    "#The next portion of code is adapted from this great kernal by andreshg\n",
    "#https://www.kaggle.com/andreshg/tps-march-a-complete-study\n",
    "\n",
    "#FE for cat2 var\n",
    "train_data['cat2'] = train_data['cat2'].apply(lambda x: x if x not in['A', 'C', 'D', 'G', 'F', 'J', 'I', 'M', 'Q', 'L', 'O'] else 'CAT2')\n",
    "X_test['cat2'] = X_test['cat2'].apply(lambda x: x if x not in['A', 'C', 'D', 'G', 'F', 'J', 'I', 'M', 'Q', 'L', 'O'] else 'CAT2')\n",
    "\n",
    "# Fix cat5 variable\n",
    "train_data['cat5'] = train_data['cat5'].apply(lambda x: x if x not in ['N', 'BS', 'BG', 'CA', 'BK', 'T', 'BO', 'CI', 'AY', 'BV'] else 'CAT50')\n",
    "X_test['cat5'] = X_test['cat5'].apply(lambda x: x if x not in ['BL', 'BJ', 'CK', 'AH', 'I', 'F', 'C', 'AQ', 'AM', 'X'] else 'CAT51')\n",
    "\n",
    "X_test['cat5'] = X_test['cat5'].apply(lambda x: x if x not in ['N', 'BS', 'BG', 'CA', 'BK', 'T', 'BO', 'CI', 'AY', 'BV'] else 'CAT50')\n",
    "X_test['cat5'] = X_test['cat5'].apply(lambda x: x if x not in ['BL', 'BJ', 'CK', 'AH', 'I', 'F', 'C', 'AQ', 'AM', 'X'] else 'CAT51')\n",
    "\n",
    "# Fix cat7 variable\n",
    "train_df['cat7'] = train_df['cat7'].apply(lambda x: x if x not in ['R', 'AA', 'AY', 'AP', 'O', 'Y'] else 'CAT70')\n",
    "train_df['cat7'] = train_df['cat7'].apply(lambda x: x if x not in ['AL', 'AD', 'L', 'AC', 'V', 'BA'] else 'CAT71')\n",
    "\n",
    "X_test['cat7'] = X_test['cat7'].apply(lambda x: x if x not in ['R', 'AA', 'AY', 'AP', 'O', 'Y'] else 'CAT70')\n",
    "X_test['cat7'] = X_test['cat7'].apply(lambda x: x if x not in ['AL', 'AD', 'L', 'AC', 'V', 'BA'] else 'CAT71')\n",
    "\n",
    "# Fix cat8 variable\n",
    "train_df['cat8'] = train_df['cat8'].apply(lambda x: x if x not in ['BC', 'BJ', 'I', 'AW', 'AS'] else 'CAT80')\n",
    "train_df['cat8'] = train_df['cat8'].apply(lambda x: x if x not in ['AO', 'AG', 'F', 'BD', 'A'] else 'CAT81')\n",
    "\n",
    "X_test['cat8'] = X_test['cat8'].apply(lambda x: x if x not in ['BC', 'BJ', 'I', 'AW', 'AS'] else 'CAT80')\n",
    "X_test['cat8'] = X_test['cat8'].apply(lambda x: x if x not in ['AO', 'AG', 'F', 'BD', 'A'] else 'CAT81')\n",
    "\n",
    "# Fix cat10 variable\n",
    "train_df['cat10'] = train_df['cat10'].apply(lambda x: x if x not in ['DF', 'IG', 'HJ', 'EK', 'GE', 'LN', 'HB'] else 'CAT10')\n",
    "train_df['cat10'] = train_df['cat10'].apply(lambda x: x if x not in ['FR', 'JR', 'GI', 'GK', 'MC', 'HC', 'CD'] else 'CAT11')\n",
    "\n",
    "X_test['cat10'] = X_test['cat10'].apply(lambda x: x if x not in ['DF', 'IG', 'HJ', 'EK', 'GE', 'LN', 'HB'] else 'CAT10')\n",
    "X_test['cat10'] = X_test['cat10'].apply(lambda x: x if x not in ['FR', 'JR', 'GI', 'GK', 'MC', 'HC', 'CD'] else 'CAT11')"
   ]
  },
  {
   "cell_type": "code",
   "execution_count": 13,
   "metadata": {
    "execution": {
     "iopub.execute_input": "2021-03-07T06:04:22.970658Z",
     "iopub.status.busy": "2021-03-07T06:04:22.969974Z",
     "iopub.status.idle": "2021-03-07T06:04:22.976690Z",
     "shell.execute_reply": "2021-03-07T06:04:22.976097Z"
    },
    "papermill": {
     "duration": 0.070098,
     "end_time": "2021-03-07T06:04:22.976837",
     "exception": false,
     "start_time": "2021-03-07T06:04:22.906739",
     "status": "completed"
    },
    "tags": []
   },
   "outputs": [],
   "source": [
    "#label encoding for the categorical values\n",
    "def label_encoder(train_data, test_data, column):\n",
    "    le = LabelEncoder()\n",
    "    new_feature = f\"{column}_le\"\n",
    "    le.fit(train_data[column].unique().tolist() + test_data[column].unique().tolist())\n",
    "    \n",
    "    train_data[new_feature] = le.transform(train_data[column])\n",
    "    test_data[new_feature] = le.transform(test_data[column])\n",
    "    \n",
    "    return new_feature"
   ]
  },
  {
   "cell_type": "code",
   "execution_count": 14,
   "metadata": {
    "execution": {
     "iopub.execute_input": "2021-03-07T06:04:23.114092Z",
     "iopub.status.busy": "2021-03-07T06:04:23.113424Z",
     "iopub.status.idle": "2021-03-07T06:04:27.143704Z",
     "shell.execute_reply": "2021-03-07T06:04:27.143138Z"
    },
    "papermill": {
     "duration": 4.109449,
     "end_time": "2021-03-07T06:04:27.143860",
     "exception": false,
     "start_time": "2021-03-07T06:04:23.034411",
     "status": "completed"
    },
    "tags": []
   },
   "outputs": [
    {
     "name": "stdout",
     "output_type": "stream",
     "text": [
      "CPU times: user 4.03 s, sys: 10.9 ms, total: 4.04 s\n",
      "Wall time: 4.04 s\n"
     ]
    },
    {
     "data": {
      "text/plain": [
       "['cat0_le',\n",
       " 'cat1_le',\n",
       " 'cat2_le',\n",
       " 'cat3_le',\n",
       " 'cat4_le',\n",
       " 'cat5_le',\n",
       " 'cat6_le',\n",
       " 'cat7_le',\n",
       " 'cat8_le',\n",
       " 'cat9_le',\n",
       " 'cat10_le',\n",
       " 'cat11_le',\n",
       " 'cat12_le',\n",
       " 'cat13_le',\n",
       " 'cat14_le',\n",
       " 'cat15_le',\n",
       " 'cat16_le',\n",
       " 'cat17_le',\n",
       " 'cat18_le']"
      ]
     },
     "execution_count": 14,
     "metadata": {},
     "output_type": "execute_result"
    }
   ],
   "source": [
    "%%time\n",
    "#encoding \n",
    "EncodedFeatures = [label_encoder(train_data, X_test, feature) for feature in cat_features]\n",
    "EncodedFeatures"
   ]
  },
  {
   "cell_type": "markdown",
   "metadata": {
    "papermill": {
     "duration": 0.057805,
     "end_time": "2021-03-07T06:04:27.259562",
     "exception": false,
     "start_time": "2021-03-07T06:04:27.201757",
     "status": "completed"
    },
    "tags": []
   },
   "source": [
    "We will now make traing dataset from label encoded categorical features + previous continous features, then using train, validation split to train our model and finally evaluate our NN based on validation dataset"
   ]
  },
  {
   "cell_type": "code",
   "execution_count": 15,
   "metadata": {
    "execution": {
     "iopub.execute_input": "2021-03-07T06:04:27.382218Z",
     "iopub.status.busy": "2021-03-07T06:04:27.381597Z",
     "iopub.status.idle": "2021-03-07T06:04:27.466092Z",
     "shell.execute_reply": "2021-03-07T06:04:27.465476Z"
    },
    "papermill": {
     "duration": 0.148453,
     "end_time": "2021-03-07T06:04:27.466234",
     "exception": false,
     "start_time": "2021-03-07T06:04:27.317781",
     "status": "completed"
    },
    "tags": []
   },
   "outputs": [
    {
     "data": {
      "text/html": [
       "<div>\n",
       "<style scoped>\n",
       "    .dataframe tbody tr th:only-of-type {\n",
       "        vertical-align: middle;\n",
       "    }\n",
       "\n",
       "    .dataframe tbody tr th {\n",
       "        vertical-align: top;\n",
       "    }\n",
       "\n",
       "    .dataframe thead th {\n",
       "        text-align: right;\n",
       "    }\n",
       "</style>\n",
       "<table border=\"1\" class=\"dataframe\">\n",
       "  <thead>\n",
       "    <tr style=\"text-align: right;\">\n",
       "      <th></th>\n",
       "      <th>cat0_le</th>\n",
       "      <th>cat1_le</th>\n",
       "      <th>cat2_le</th>\n",
       "      <th>cat3_le</th>\n",
       "      <th>cat4_le</th>\n",
       "      <th>cat5_le</th>\n",
       "      <th>cat6_le</th>\n",
       "      <th>cat7_le</th>\n",
       "      <th>cat8_le</th>\n",
       "      <th>cat9_le</th>\n",
       "      <th>...</th>\n",
       "      <th>cont1</th>\n",
       "      <th>cont2</th>\n",
       "      <th>cont3</th>\n",
       "      <th>cont4</th>\n",
       "      <th>cont5</th>\n",
       "      <th>cont6</th>\n",
       "      <th>cont7</th>\n",
       "      <th>cont8</th>\n",
       "      <th>cont9</th>\n",
       "      <th>cont10</th>\n",
       "    </tr>\n",
       "  </thead>\n",
       "  <tbody>\n",
       "    <tr>\n",
       "      <th>0</th>\n",
       "      <td>0</td>\n",
       "      <td>8</td>\n",
       "      <td>1</td>\n",
       "      <td>1</td>\n",
       "      <td>1</td>\n",
       "      <td>31</td>\n",
       "      <td>0</td>\n",
       "      <td>46</td>\n",
       "      <td>56</td>\n",
       "      <td>0</td>\n",
       "      <td>...</td>\n",
       "      <td>0.855349</td>\n",
       "      <td>0.759439</td>\n",
       "      <td>0.795549</td>\n",
       "      <td>0.681917</td>\n",
       "      <td>0.621672</td>\n",
       "      <td>0.592184</td>\n",
       "      <td>0.791921</td>\n",
       "      <td>0.815254</td>\n",
       "      <td>0.965006</td>\n",
       "      <td>0.665915</td>\n",
       "    </tr>\n",
       "    <tr>\n",
       "      <th>1</th>\n",
       "      <td>0</td>\n",
       "      <td>8</td>\n",
       "      <td>1</td>\n",
       "      <td>0</td>\n",
       "      <td>4</td>\n",
       "      <td>31</td>\n",
       "      <td>8</td>\n",
       "      <td>50</td>\n",
       "      <td>3</td>\n",
       "      <td>5</td>\n",
       "      <td>...</td>\n",
       "      <td>0.328929</td>\n",
       "      <td>0.386385</td>\n",
       "      <td>0.541366</td>\n",
       "      <td>0.388982</td>\n",
       "      <td>0.357778</td>\n",
       "      <td>0.600044</td>\n",
       "      <td>0.408701</td>\n",
       "      <td>0.399353</td>\n",
       "      <td>0.927406</td>\n",
       "      <td>0.493729</td>\n",
       "    </tr>\n",
       "    <tr>\n",
       "      <th>2</th>\n",
       "      <td>0</td>\n",
       "      <td>10</td>\n",
       "      <td>1</td>\n",
       "      <td>0</td>\n",
       "      <td>4</td>\n",
       "      <td>31</td>\n",
       "      <td>0</td>\n",
       "      <td>32</td>\n",
       "      <td>38</td>\n",
       "      <td>9</td>\n",
       "      <td>...</td>\n",
       "      <td>0.322749</td>\n",
       "      <td>0.343255</td>\n",
       "      <td>0.616352</td>\n",
       "      <td>0.793687</td>\n",
       "      <td>0.552877</td>\n",
       "      <td>0.352113</td>\n",
       "      <td>0.388835</td>\n",
       "      <td>0.412303</td>\n",
       "      <td>0.292696</td>\n",
       "      <td>0.549452</td>\n",
       "    </tr>\n",
       "    <tr>\n",
       "      <th>3</th>\n",
       "      <td>0</td>\n",
       "      <td>10</td>\n",
       "      <td>1</td>\n",
       "      <td>2</td>\n",
       "      <td>4</td>\n",
       "      <td>31</td>\n",
       "      <td>0</td>\n",
       "      <td>52</td>\n",
       "      <td>3</td>\n",
       "      <td>5</td>\n",
       "      <td>...</td>\n",
       "      <td>0.707663</td>\n",
       "      <td>0.831147</td>\n",
       "      <td>0.807807</td>\n",
       "      <td>0.800032</td>\n",
       "      <td>0.619147</td>\n",
       "      <td>0.221789</td>\n",
       "      <td>0.897617</td>\n",
       "      <td>0.633669</td>\n",
       "      <td>0.760318</td>\n",
       "      <td>0.934242</td>\n",
       "    </tr>\n",
       "    <tr>\n",
       "      <th>4</th>\n",
       "      <td>0</td>\n",
       "      <td>8</td>\n",
       "      <td>1</td>\n",
       "      <td>1</td>\n",
       "      <td>4</td>\n",
       "      <td>31</td>\n",
       "      <td>2</td>\n",
       "      <td>34</td>\n",
       "      <td>56</td>\n",
       "      <td>0</td>\n",
       "      <td>...</td>\n",
       "      <td>0.274514</td>\n",
       "      <td>0.338818</td>\n",
       "      <td>0.277308</td>\n",
       "      <td>0.610578</td>\n",
       "      <td>0.128291</td>\n",
       "      <td>0.578764</td>\n",
       "      <td>0.279167</td>\n",
       "      <td>0.351103</td>\n",
       "      <td>0.357084</td>\n",
       "      <td>0.328960</td>\n",
       "    </tr>\n",
       "  </tbody>\n",
       "</table>\n",
       "<p>5 rows × 30 columns</p>\n",
       "</div>"
      ],
      "text/plain": [
       "   cat0_le  cat1_le  cat2_le  cat3_le  cat4_le  cat5_le  cat6_le  cat7_le  \\\n",
       "0        0        8        1        1        1       31        0       46   \n",
       "1        0        8        1        0        4       31        8       50   \n",
       "2        0       10        1        0        4       31        0       32   \n",
       "3        0       10        1        2        4       31        0       52   \n",
       "4        0        8        1        1        4       31        2       34   \n",
       "\n",
       "   cat8_le  cat9_le  ...     cont1     cont2     cont3     cont4     cont5  \\\n",
       "0       56        0  ...  0.855349  0.759439  0.795549  0.681917  0.621672   \n",
       "1        3        5  ...  0.328929  0.386385  0.541366  0.388982  0.357778   \n",
       "2       38        9  ...  0.322749  0.343255  0.616352  0.793687  0.552877   \n",
       "3        3        5  ...  0.707663  0.831147  0.807807  0.800032  0.619147   \n",
       "4       56        0  ...  0.274514  0.338818  0.277308  0.610578  0.128291   \n",
       "\n",
       "      cont6     cont7     cont8     cont9    cont10  \n",
       "0  0.592184  0.791921  0.815254  0.965006  0.665915  \n",
       "1  0.600044  0.408701  0.399353  0.927406  0.493729  \n",
       "2  0.352113  0.388835  0.412303  0.292696  0.549452  \n",
       "3  0.221789  0.897617  0.633669  0.760318  0.934242  \n",
       "4  0.578764  0.279167  0.351103  0.357084  0.328960  \n",
       "\n",
       "[5 rows x 30 columns]"
      ]
     },
     "execution_count": 15,
     "metadata": {},
     "output_type": "execute_result"
    }
   ],
   "source": [
    "Train_features = EncodedFeatures + cont_features\n",
    "X_train = train_data[Train_features]\n",
    "X_train.head()"
   ]
  },
  {
   "cell_type": "markdown",
   "metadata": {
    "papermill": {
     "duration": 0.059275,
     "end_time": "2021-03-07T06:04:27.584694",
     "exception": false,
     "start_time": "2021-03-07T06:04:27.525419",
     "status": "completed"
    },
    "tags": []
   },
   "source": [
    "Splitting train-validation data for further evaluation, we will use 5% data as validation data because our training dataset consist of 300,000 values and around 15000 would be enough to evaluate performance.The first step is to create dataset class which further called to make a dataloader(which can make better use of multiprocessing)"
   ]
  },
  {
   "cell_type": "code",
   "execution_count": 16,
   "metadata": {
    "execution": {
     "iopub.execute_input": "2021-03-07T06:04:27.709333Z",
     "iopub.status.busy": "2021-03-07T06:04:27.708660Z",
     "iopub.status.idle": "2021-03-07T06:04:27.711991Z",
     "shell.execute_reply": "2021-03-07T06:04:27.711372Z"
    },
    "papermill": {
     "duration": 0.068767,
     "end_time": "2021-03-07T06:04:27.712130",
     "exception": false,
     "start_time": "2021-03-07T06:04:27.643363",
     "status": "completed"
    },
    "tags": []
   },
   "outputs": [],
   "source": [
    "#make a class to make dataset\n",
    "class Dataset(torch.utils.data.Dataset):\n",
    "  'Characterizes a dataset for PyTorch'\n",
    "  def __init__(self, list_IDs, labels):\n",
    "        'Initialization'\n",
    "        self.labels = labels\n",
    "        self.list_IDs = list_IDs\n",
    "\n",
    "  def __len__(self):\n",
    "        'Denotes the total number of samples'\n",
    "        return len(self.list_IDs)\n",
    "\n",
    "  def __getitem__(self, index):\n",
    "        'Generates one sample of data'\n",
    "        ID = self.list_IDs[index]\n",
    "        # Load data and get label\n",
    "        X = X_train.loc[ID].to_numpy()\n",
    "        y = self.labels[ID]\n",
    "\n",
    "        return X, y"
   ]
  },
  {
   "cell_type": "code",
   "execution_count": 17,
   "metadata": {
    "execution": {
     "iopub.execute_input": "2021-03-07T06:04:27.837708Z",
     "iopub.status.busy": "2021-03-07T06:04:27.836801Z",
     "iopub.status.idle": "2021-03-07T06:04:27.839892Z",
     "shell.execute_reply": "2021-03-07T06:04:27.839241Z"
    },
    "papermill": {
     "duration": 0.069134,
     "end_time": "2021-03-07T06:04:27.840026",
     "exception": false,
     "start_time": "2021-03-07T06:04:27.770892",
     "status": "completed"
    },
    "tags": []
   },
   "outputs": [],
   "source": [
    "target = train_df['target']\n",
    "training_set = Dataset(X_train.index, target.values)\n",
    "\n",
    "def get_data_generators(params):    \n",
    "    # Load dataset and return train validation split.\n",
    "    train_size = int(0.95 * len(training_set))\n",
    "    test_size = len(training_set) - train_size\n",
    "    train_dataset, val_dataset = torch.utils.data.random_split(training_set, [train_size, test_size])\n",
    "\n",
    "    train_generator = torch.utils.data.DataLoader(train_dataset, **params)\n",
    "    val_generator = torch.utils.data.DataLoader(val_dataset, **params)\n",
    "    \n",
    "    return train_generator, val_generator\n"
   ]
  },
  {
   "cell_type": "markdown",
   "metadata": {
    "papermill": {
     "duration": 0.065248,
     "end_time": "2021-03-07T06:04:27.964759",
     "exception": false,
     "start_time": "2021-03-07T06:04:27.899511",
     "status": "completed"
    },
    "tags": []
   },
   "source": [
    "### Part 4 - Hyper-parameter Tuning with Optuna\n",
    "In this section, we will tune our hyperparameters using a optimization framework called Optuna. It works by first creating an objective function which includes defining our model, then another part creates a study where our objective model is sampled using different parameters. Interally, the parameters are first sampled using different samplers to find optimum value from previous studies, then pruners are used to efficiently find parameters that work by prunning non-optimal values. The key to the optimization is providing efficient and fast hyperparameter search with distributed processing, in this notebook we will be using gpu to make search faster for our model parameters."
   ]
  },
  {
   "cell_type": "code",
   "execution_count": 18,
   "metadata": {
    "execution": {
     "iopub.execute_input": "2021-03-07T06:04:28.125843Z",
     "iopub.status.busy": "2021-03-07T06:04:28.124773Z",
     "iopub.status.idle": "2021-03-07T06:04:28.128007Z",
     "shell.execute_reply": "2021-03-07T06:04:28.127522Z"
    },
    "papermill": {
     "duration": 0.086184,
     "end_time": "2021-03-07T06:04:28.128147",
     "exception": false,
     "start_time": "2021-03-07T06:04:28.041963",
     "status": "completed"
    },
    "tags": []
   },
   "outputs": [],
   "source": [
    "#define constants \n",
    "use_cuda = torch.cuda.is_available()\n",
    "# DEVICE = torch.device(\"cuda:0\" if use_cuda else \"cpu\")\n",
    "#currently we only use CPU\n",
    "DEVICE = 'cpu'\n",
    "torch.backends.cudnn.benchmark = True\n",
    "\n",
    "BATCHSIZE = 128\n",
    "CLASSES = 10\n",
    "DIR = os.getcwd()\n",
    "LOG_INTERVAL = 10\n",
    "N_TRAIN_EXAMPLES = BATCHSIZE * 30\n",
    "N_VALID_EXAMPLES = BATCHSIZE * 10\n",
    "\n",
    "params = {'batch_size': BATCHSIZE,\n",
    "          'shuffle': True,\n",
    "          'num_workers': 1}\n",
    "EPOCHS = 10\n",
    "\n",
    "#make a model Neural Network\n",
    "def define_model(trial): \n",
    "    #Suggest number of layers for our model.\n",
    "    n_layers = trial.suggest_int('n_layers', 1, 3)\n",
    "    layers = []\n",
    "    #number of input neurons/features\n",
    "    in_features = 30\n",
    "    for i in range(n_layers):\n",
    "        out_features = trial.suggest_int('n_units_l{}'.format(i), 4, 128)\n",
    "        layers.append(torch.nn.Linear(in_features, out_features))\n",
    "        layers.append(torch.nn.ReLU())\n",
    "        #set dropout for regularization\n",
    "        p = trial.suggest_float(\"dropout_l{}\".format(i), 0.2, 0.5)\n",
    "        layers.append(nn.Dropout(p))\n",
    "        in_features = out_features\n",
    "    \n",
    "    classes = 1\n",
    "    layers.append(torch.nn.Linear(in_features, classes))\n",
    "    layers.append(torch.nn.Sigmoid())\n",
    "    return torch.nn.Sequential(*layers)\n",
    "\n",
    "\n",
    "#We will define objective function for actual training during study.\n",
    "def objective(trial):\n",
    "    \n",
    "    # Generate the model.\n",
    "    model = define_model(trial).to(DEVICE)\n",
    "     # Generate the optimizers.\n",
    "    optimizer_name = trial.suggest_categorical(\"optimizer\", [\"Adam\", \"RMSprop\", \"SGD\"])\n",
    "    lr = trial.suggest_float(\"lr\", 1e-5, 1e-1, log=True)\n",
    "    optimizer = getattr(optim, optimizer_name)(model.parameters(), lr=lr)\n",
    "    \n",
    "    #Splitting into 95-5 train validation data.\n",
    "    train_loader, valid_loader = get_data_generators(params)\n",
    "    \n",
    "    # Training of the model.\n",
    "    for epoch in range(EPOCHS):\n",
    "        model.train()\n",
    "        for batch_idx, (data, target) in enumerate(train_loader):\n",
    "            # Limiting training data for faster epochs.\n",
    "            if batch_idx * BATCHSIZE >= N_TRAIN_EXAMPLES:\n",
    "                break\n",
    "\n",
    "            data, target = data.to(DEVICE), target.to(DEVICE)\n",
    "            \n",
    "            #Actual training, propogating loss using optimizer.\n",
    "            optimizer.zero_grad()\n",
    "            output = model(data.float())\n",
    "            msloss = nn.MSELoss()\n",
    "            loss = msloss(output.float(),target.float())\n",
    "            loss.backward()\n",
    "            optimizer.step()\n",
    "    \n",
    "    \n",
    "        # Validation of the model.\n",
    "        model.eval()\n",
    "        preds = []\n",
    "        y_test = []\n",
    "        with torch.no_grad():\n",
    "            for batch_idx, (data, target) in enumerate(valid_loader):\n",
    "                # Limiting validation data.\n",
    "                if batch_idx * BATCHSIZE >= N_VALID_EXAMPLES:\n",
    "                    break\n",
    "                data, target = data.to(DEVICE), target.to(DEVICE)\n",
    "                output = model(data.float())\n",
    "                preds.extend(output.numpy())\n",
    "                y_test.extend(target.numpy())\n",
    "        \n",
    "        preds = np.array(np.array(preds) > 0.5,dtype=int)\n",
    "        # print(\"acc\", accuracy_score(y_test,preds))\n",
    "        if len(np.unique(preds)) != 2:\n",
    "            auc_score = 0\n",
    "        else:\n",
    "            auc_score = roc_auc_score(y_test,preds)\n",
    "        trial.report(auc_score, epoch)\n",
    "\n",
    "        # Handle pruning based on the intermediate value.\n",
    "        if trial.should_prune():\n",
    "            raise optuna.exceptions.TrialPruned()\n",
    "    #calculate auc loss\n",
    "    return auc_score"
   ]
  },
  {
   "cell_type": "code",
   "execution_count": 19,
   "metadata": {
    "_kg_hide-input": true,
    "_kg_hide-output": true,
    "execution": {
     "iopub.execute_input": "2021-03-07T06:04:28.251444Z",
     "iopub.status.busy": "2021-03-07T06:04:28.250795Z",
     "iopub.status.idle": "2021-03-07T06:04:28.253897Z",
     "shell.execute_reply": "2021-03-07T06:04:28.253236Z"
    },
    "papermill": {
     "duration": 0.06677,
     "end_time": "2021-03-07T06:04:28.254044",
     "exception": false,
     "start_time": "2021-03-07T06:04:28.187274",
     "status": "completed"
    },
    "tags": []
   },
   "outputs": [],
   "source": [
    "#ignore debug code \n",
    "# Validation of the model.\n",
    "# import os\n",
    "# os.environ['CUDA_LAUNCH_BLOCKING'] = \"1\"\n",
    "# model.eval()\n",
    "# preds = []\n",
    "# y_test = []\n",
    "# with torch.no_grad():\n",
    "#     for batch_idx, (data, target) in enumerate(valid_loader):\n",
    "#         # Limiting validation data.\n",
    "#         if batch_idx * BATCHSIZE >= N_VALID_EXAMPLES:\n",
    "#             break\n",
    "#         data, target = data.to(DEVICE), target.to(DEVICE)\n",
    "#         output = model(data.float())\n",
    "#         preds.append(output.cpu().numpy().reshape((BATCHSIZE,)))\n",
    "#         y_test.append(target.cpu().numpy())\n",
    "# print(\"acc\", accuracy_score(y_test,preds))\n",
    "# auc_score = roc_auc_score(y_test,preds)\n",
    "# np.array(preds.cpu().numpy(),dtype='float')\n",
    "# preds = []\n",
    "# y_test = []\n",
    "# with torch.no_grad():\n",
    "#     for batch_idx, (data, target) in enumerate(valid_loader):\n",
    "#         # Limiting validation data.\n",
    "#         if batch_idx * BATCHSIZE >= N_VALID_EXAMPLES:\n",
    "#             break\n",
    "#         data, target = data.to(DEVICE), target.to(DEVICE)\n",
    "#         output = model(data.float())\n",
    "#         preds.extend(output.numpy())\n",
    "#         y_test.extend(target.numpy())\n",
    "# np.array(np.array(preds) > 0.3,dtype=int).reshape(-1,BATCHSIZE)\n",
    "# for k,l in valid_loader:\n",
    "#     data, target = data.to(DEVICE), target.to(DEVICE)\n",
    "#     output = model(data.float())\n",
    "    \n",
    "#     print(output.reshape((BATCHSIZE,)).shape, target.shape)\n",
    "#     loss = nn.MSELoss()\n",
    "#     loss_val = loss(output.float(),target.float())\n",
    "#     loss_val.backward()\n",
    "#     break\n",
    "# model(torch.from_numpy(X_train.loc[0].to_numpy()).float())"
   ]
  },
  {
   "cell_type": "markdown",
   "metadata": {
    "papermill": {
     "duration": 0.059567,
     "end_time": "2021-03-07T06:04:28.373285",
     "exception": false,
     "start_time": "2021-03-07T06:04:28.313718",
     "status": "completed"
    },
    "tags": []
   },
   "source": [
    "Creating a study for trials of hyperparameters, we are maximizing the area under ROC curve which is the evaluation measure used in this competition"
   ]
  },
  {
   "cell_type": "code",
   "execution_count": 20,
   "metadata": {
    "_kg_hide-output": true,
    "execution": {
     "iopub.execute_input": "2021-03-07T06:04:28.513612Z",
     "iopub.status.busy": "2021-03-07T06:04:28.512663Z",
     "iopub.status.idle": "2021-03-07T06:14:26.221167Z",
     "shell.execute_reply": "2021-03-07T06:14:26.221755Z"
    },
    "papermill": {
     "duration": 597.785119,
     "end_time": "2021-03-07T06:14:26.222086",
     "exception": false,
     "start_time": "2021-03-07T06:04:28.436967",
     "status": "completed"
    },
    "tags": []
   },
   "outputs": [
    {
     "name": "stderr",
     "output_type": "stream",
     "text": [
      "\u001b[32m[I 2021-03-07 06:04:28,510]\u001b[0m A new study created in memory with name: no-name-be610cc4-943b-4e02-bd6b-a55e6c2d7cf4\u001b[0m\n",
      "\u001b[32m[I 2021-03-07 06:04:43,003]\u001b[0m Trial 0 finished with value: 0.0 and parameters: {'n_layers': 3, 'n_units_l0': 8, 'dropout_l0': 0.2834068541858533, 'n_units_l1': 20, 'dropout_l1': 0.2713656172132497, 'n_units_l2': 36, 'dropout_l2': 0.3924484651128892, 'optimizer': 'Adam', 'lr': 0.003664632944061507}. Best is trial 0 with value: 0.0.\u001b[0m\n",
      "\u001b[32m[I 2021-03-07 06:04:57,341]\u001b[0m Trial 1 finished with value: 0.0 and parameters: {'n_layers': 1, 'n_units_l0': 102, 'dropout_l0': 0.29091954470655457, 'optimizer': 'Adam', 'lr': 0.00204119928847202}. Best is trial 0 with value: 0.0.\u001b[0m\n",
      "\u001b[32m[I 2021-03-07 06:05:11,882]\u001b[0m Trial 2 finished with value: 0.0 and parameters: {'n_layers': 2, 'n_units_l0': 42, 'dropout_l0': 0.3895587677909532, 'n_units_l1': 34, 'dropout_l1': 0.36049746552783274, 'optimizer': 'RMSprop', 'lr': 0.00013247442895568525}. Best is trial 0 with value: 0.0.\u001b[0m\n",
      "\u001b[32m[I 2021-03-07 06:05:26,455]\u001b[0m Trial 3 finished with value: 0.0 and parameters: {'n_layers': 3, 'n_units_l0': 23, 'dropout_l0': 0.36877185235774873, 'n_units_l1': 46, 'dropout_l1': 0.3353687826739422, 'n_units_l2': 9, 'dropout_l2': 0.27745009382873487, 'optimizer': 'Adam', 'lr': 0.002104329710832791}. Best is trial 0 with value: 0.0.\u001b[0m\n",
      "\u001b[32m[I 2021-03-07 06:05:41,343]\u001b[0m Trial 4 finished with value: 0.0 and parameters: {'n_layers': 3, 'n_units_l0': 83, 'dropout_l0': 0.22344066683691985, 'n_units_l1': 93, 'dropout_l1': 0.45026897961537643, 'n_units_l2': 93, 'dropout_l2': 0.22477139194332701, 'optimizer': 'RMSprop', 'lr': 0.0012479554954899195}. Best is trial 0 with value: 0.0.\u001b[0m\n",
      "\u001b[32m[I 2021-03-07 06:05:55,886]\u001b[0m Trial 5 finished with value: 0.4822938535774422 and parameters: {'n_layers': 3, 'n_units_l0': 42, 'dropout_l0': 0.3668037369625333, 'n_units_l1': 73, 'dropout_l1': 0.37307716446244177, 'n_units_l2': 89, 'dropout_l2': 0.28242908595104943, 'optimizer': 'SGD', 'lr': 2.9707840701812316e-05}. Best is trial 5 with value: 0.4822938535774422.\u001b[0m\n",
      "\u001b[32m[I 2021-03-07 06:06:10,555]\u001b[0m Trial 6 finished with value: 0.4925853043690756 and parameters: {'n_layers': 3, 'n_units_l0': 86, 'dropout_l0': 0.2521496439154452, 'n_units_l1': 104, 'dropout_l1': 0.3281932381456411, 'n_units_l2': 17, 'dropout_l2': 0.22411085611791484, 'optimizer': 'SGD', 'lr': 1.8286930796954945e-05}. Best is trial 6 with value: 0.4925853043690756.\u001b[0m\n",
      "\u001b[32m[I 2021-03-07 06:06:26,714]\u001b[0m Trial 7 finished with value: 0.0 and parameters: {'n_layers': 3, 'n_units_l0': 124, 'dropout_l0': 0.2933114585690798, 'n_units_l1': 85, 'dropout_l1': 0.3643662349673269, 'n_units_l2': 38, 'dropout_l2': 0.3344046918138377, 'optimizer': 'SGD', 'lr': 0.06027538844492405}. Best is trial 6 with value: 0.4925853043690756.\u001b[0m\n",
      "\u001b[32m[I 2021-03-07 06:06:45,275]\u001b[0m Trial 8 finished with value: 0.0 and parameters: {'n_layers': 2, 'n_units_l0': 126, 'dropout_l0': 0.20638970133914258, 'n_units_l1': 99, 'dropout_l1': 0.31546748924530904, 'optimizer': 'RMSprop', 'lr': 0.001061905207042573}. Best is trial 6 with value: 0.4925853043690756.\u001b[0m\n",
      "\u001b[32m[I 2021-03-07 06:07:00,169]\u001b[0m Trial 9 finished with value: 0.0 and parameters: {'n_layers': 2, 'n_units_l0': 50, 'dropout_l0': 0.3174212605933041, 'n_units_l1': 107, 'dropout_l1': 0.47370167101773963, 'optimizer': 'SGD', 'lr': 0.09586692752641844}. Best is trial 6 with value: 0.4925853043690756.\u001b[0m\n",
      "\u001b[32m[I 2021-03-07 06:07:15,168]\u001b[0m Trial 10 finished with value: 0.0 and parameters: {'n_layers': 1, 'n_units_l0': 81, 'dropout_l0': 0.4917280450992443, 'optimizer': 'SGD', 'lr': 1.057841320006688e-05}. Best is trial 6 with value: 0.4925853043690756.\u001b[0m\n",
      "\u001b[32m[I 2021-03-07 06:07:30,029]\u001b[0m Trial 11 finished with value: 0.5039259287176975 and parameters: {'n_layers': 3, 'n_units_l0': 61, 'dropout_l0': 0.4330382973817286, 'n_units_l1': 65, 'dropout_l1': 0.41229880699564153, 'n_units_l2': 113, 'dropout_l2': 0.21647041197910719, 'optimizer': 'SGD', 'lr': 1.0807943434566162e-05}. Best is trial 11 with value: 0.5039259287176975.\u001b[0m\n",
      "\u001b[32m[I 2021-03-07 06:07:45,091]\u001b[0m Trial 12 finished with value: 0.5124765281395867 and parameters: {'n_layers': 3, 'n_units_l0': 78, 'dropout_l0': 0.4580335857263302, 'n_units_l1': 128, 'dropout_l1': 0.42022839289846214, 'n_units_l2': 126, 'dropout_l2': 0.20312538264132574, 'optimizer': 'SGD', 'lr': 8.613859940458397e-05}. Best is trial 12 with value: 0.5124765281395867.\u001b[0m\n",
      "\u001b[32m[I 2021-03-07 06:07:59,867]\u001b[0m Trial 13 finished with value: 0.4922576145082539 and parameters: {'n_layers': 2, 'n_units_l0': 66, 'dropout_l0': 0.45827523024413414, 'n_units_l1': 59, 'dropout_l1': 0.4188028407705852, 'optimizer': 'SGD', 'lr': 0.00011043650005025104}. Best is trial 12 with value: 0.5124765281395867.\u001b[0m\n",
      "\u001b[32m[I 2021-03-07 06:08:14,890]\u001b[0m Trial 14 finished with value: 0.5066123858869972 and parameters: {'n_layers': 3, 'n_units_l0': 63, 'dropout_l0': 0.4309059232163557, 'n_units_l1': 125, 'dropout_l1': 0.4246802437816579, 'n_units_l2': 128, 'dropout_l2': 0.49588887276484084, 'optimizer': 'SGD', 'lr': 0.00012819599929637986}. Best is trial 12 with value: 0.5124765281395867.\u001b[0m\n",
      "\u001b[32m[I 2021-03-07 06:08:29,804]\u001b[0m Trial 15 finished with value: 0.5041681622953051 and parameters: {'n_layers': 2, 'n_units_l0': 103, 'dropout_l0': 0.49780719687201347, 'n_units_l1': 128, 'dropout_l1': 0.4347735538184647, 'optimizer': 'SGD', 'lr': 0.0002468340518241677}. Best is trial 12 with value: 0.5124765281395867.\u001b[0m\n",
      "\u001b[32m[I 2021-03-07 06:08:44,992]\u001b[0m Trial 16 finished with value: 0.0 and parameters: {'n_layers': 3, 'n_units_l0': 65, 'dropout_l0': 0.4233288962062846, 'n_units_l1': 127, 'dropout_l1': 0.4963952184018402, 'n_units_l2': 126, 'dropout_l2': 0.49241292220251714, 'optimizer': 'SGD', 'lr': 4.697879234360614e-05}. Best is trial 12 with value: 0.5124765281395867.\u001b[0m\n",
      "\u001b[32m[I 2021-03-07 06:08:59,861]\u001b[0m Trial 17 finished with value: 0.0 and parameters: {'n_layers': 3, 'n_units_l0': 104, 'dropout_l0': 0.4607827207272739, 'n_units_l1': 119, 'dropout_l1': 0.3961458346507339, 'n_units_l2': 118, 'dropout_l2': 0.48717029679017926, 'optimizer': 'SGD', 'lr': 0.00026190637251360157}. Best is trial 12 with value: 0.5124765281395867.\u001b[0m\n",
      "\u001b[32m[I 2021-03-07 06:09:14,610]\u001b[0m Trial 18 finished with value: 0.0 and parameters: {'n_layers': 2, 'n_units_l0': 23, 'dropout_l0': 0.4018205055841574, 'n_units_l1': 116, 'dropout_l1': 0.2161034124049298, 'optimizer': 'SGD', 'lr': 0.0070510622182777495}. Best is trial 12 with value: 0.5124765281395867.\u001b[0m\n",
      "\u001b[32m[I 2021-03-07 06:09:29,561]\u001b[0m Trial 19 finished with value: 0.519275374276887 and parameters: {'n_layers': 1, 'n_units_l0': 75, 'dropout_l0': 0.475368099621619, 'optimizer': 'SGD', 'lr': 6.222911042873807e-05}. Best is trial 19 with value: 0.519275374276887.\u001b[0m\n",
      "\u001b[32m[I 2021-03-07 06:09:44,150]\u001b[0m Trial 20 finished with value: 0.0 and parameters: {'n_layers': 1, 'n_units_l0': 94, 'dropout_l0': 0.47276567053680285, 'optimizer': 'RMSprop', 'lr': 0.0004789602391827061}. Best is trial 19 with value: 0.519275374276887.\u001b[0m\n",
      "\u001b[32m[I 2021-03-07 06:09:58,965]\u001b[0m Trial 21 finished with value: 0.0 and parameters: {'n_layers': 1, 'n_units_l0': 74, 'dropout_l0': 0.43797212006975517, 'optimizer': 'SGD', 'lr': 6.175483160797529e-05}. Best is trial 19 with value: 0.519275374276887.\u001b[0m\n",
      "\u001b[32m[I 2021-03-07 06:10:13,818]\u001b[0m Trial 22 finished with value: 0.5041622282715903 and parameters: {'n_layers': 1, 'n_units_l0': 53, 'dropout_l0': 0.4936920443888316, 'optimizer': 'SGD', 'lr': 8.375071870511031e-05}. Best is trial 19 with value: 0.519275374276887.\u001b[0m\n",
      "\u001b[32m[I 2021-03-07 06:10:28,752]\u001b[0m Trial 23 finished with value: 0.0 and parameters: {'n_layers': 2, 'n_units_l0': 72, 'dropout_l0': 0.4711676397546073, 'n_units_l1': 126, 'dropout_l1': 0.49332037573198245, 'optimizer': 'SGD', 'lr': 2.631347084706546e-05}. Best is trial 19 with value: 0.519275374276887.\u001b[0m\n",
      "\u001b[32m[I 2021-03-07 06:10:43,711]\u001b[0m Trial 24 finished with value: 0.0 and parameters: {'n_layers': 3, 'n_units_l0': 55, 'dropout_l0': 0.42013844561198815, 'n_units_l1': 82, 'dropout_l1': 0.46027301206627913, 'n_units_l2': 93, 'dropout_l2': 0.41739712608392593, 'optimizer': 'SGD', 'lr': 0.0003228967712002764}. Best is trial 19 with value: 0.519275374276887.\u001b[0m\n",
      "\u001b[32m[I 2021-03-07 06:10:58,438]\u001b[0m Trial 25 finished with value: 0.0 and parameters: {'n_layers': 1, 'n_units_l0': 91, 'dropout_l0': 0.45041422397696435, 'optimizer': 'Adam', 'lr': 0.0001697897673274422}. Best is trial 19 with value: 0.519275374276887.\u001b[0m\n",
      "\u001b[32m[I 2021-03-07 06:11:13,051]\u001b[0m Trial 26 finished with value: 0.0 and parameters: {'n_layers': 3, 'n_units_l0': 75, 'dropout_l0': 0.3947818771682415, 'n_units_l1': 10, 'dropout_l1': 0.3941635645712422, 'n_units_l2': 128, 'dropout_l2': 0.4399762034109546, 'optimizer': 'SGD', 'lr': 0.0005522322163185882}. Best is trial 19 with value: 0.519275374276887.\u001b[0m\n",
      "\u001b[32m[I 2021-03-07 06:11:27,924]\u001b[0m Trial 27 finished with value: 0.0 and parameters: {'n_layers': 2, 'n_units_l0': 116, 'dropout_l0': 0.47901270187436507, 'n_units_l1': 112, 'dropout_l1': 0.2956007029374699, 'optimizer': 'SGD', 'lr': 4.125745295679275e-05}. Best is trial 19 with value: 0.519275374276887.\u001b[0m\n",
      "\u001b[32m[I 2021-03-07 06:11:42,828]\u001b[0m Trial 28 finished with value: 0.5325235109717867 and parameters: {'n_layers': 3, 'n_units_l0': 43, 'dropout_l0': 0.33213640812986595, 'n_units_l1': 93, 'dropout_l1': 0.4335339079839952, 'n_units_l2': 69, 'dropout_l2': 0.3610087679542572, 'optimizer': 'SGD', 'lr': 8.785642895199805e-05}. Best is trial 28 with value: 0.5325235109717867.\u001b[0m\n",
      "\u001b[32m[I 2021-03-07 06:11:57,732]\u001b[0m Trial 29 finished with value: 0.0 and parameters: {'n_layers': 3, 'n_units_l0': 28, 'dropout_l0': 0.34456714911331116, 'n_units_l1': 91, 'dropout_l1': 0.4751307391042073, 'n_units_l2': 66, 'dropout_l2': 0.34500623664215857, 'optimizer': 'Adam', 'lr': 2.084614945950194e-05}. Best is trial 28 with value: 0.5325235109717867.\u001b[0m\n",
      "\u001b[32m[I 2021-03-07 06:12:12,308]\u001b[0m Trial 30 finished with value: 0.0 and parameters: {'n_layers': 2, 'n_units_l0': 4, 'dropout_l0': 0.33476295786115734, 'n_units_l1': 51, 'dropout_l1': 0.38763450379492376, 'optimizer': 'SGD', 'lr': 0.020487772336148177}. Best is trial 28 with value: 0.5325235109717867.\u001b[0m\n",
      "\u001b[32m[I 2021-03-07 06:12:27,207]\u001b[0m Trial 31 finished with value: 0.0 and parameters: {'n_layers': 3, 'n_units_l0': 39, 'dropout_l0': 0.319091268593974, 'n_units_l1': 122, 'dropout_l1': 0.42901082261178936, 'n_units_l2': 109, 'dropout_l2': 0.2919496387008971, 'optimizer': 'SGD', 'lr': 9.940975274812552e-05}. Best is trial 28 with value: 0.5325235109717867.\u001b[0m\n",
      "\u001b[32m[I 2021-03-07 06:12:41,981]\u001b[0m Trial 32 finished with value: 0.4998203002910494 and parameters: {'n_layers': 3, 'n_units_l0': 60, 'dropout_l0': 0.41107208242813575, 'n_units_l1': 110, 'dropout_l1': 0.4514595706217412, 'n_units_l2': 68, 'dropout_l2': 0.45493319393761567, 'optimizer': 'SGD', 'lr': 5.464554216118802e-05}. Best is trial 28 with value: 0.5325235109717867.\u001b[0m\n",
      "\u001b[32m[I 2021-03-07 06:12:56,802]\u001b[0m Trial 33 finished with value: 0.0 and parameters: {'n_layers': 3, 'n_units_l0': 69, 'dropout_l0': 0.36254175653791465, 'n_units_l1': 73, 'dropout_l1': 0.41500279791636024, 'n_units_l2': 49, 'dropout_l2': 0.37857025914188847, 'optimizer': 'SGD', 'lr': 0.00015126866454597747}. Best is trial 28 with value: 0.5325235109717867.\u001b[0m\n",
      "\u001b[32m[I 2021-03-07 06:13:11,885]\u001b[0m Trial 34 finished with value: 0.0 and parameters: {'n_layers': 3, 'n_units_l0': 48, 'dropout_l0': 0.44599657263132847, 'n_units_l1': 99, 'dropout_l1': 0.44072646149500283, 'n_units_l2': 102, 'dropout_l2': 0.31027109474105496, 'optimizer': 'Adam', 'lr': 0.0005654518044328801}. Best is trial 28 with value: 0.5325235109717867.\u001b[0m\n",
      "\u001b[32m[I 2021-03-07 06:13:26,637]\u001b[0m Trial 35 finished with value: 0.0 and parameters: {'n_layers': 3, 'n_units_l0': 37, 'dropout_l0': 0.38504099207131415, 'n_units_l1': 128, 'dropout_l1': 0.4764763131887098, 'n_units_l2': 78, 'dropout_l2': 0.259551583440687, 'optimizer': 'RMSprop', 'lr': 7.746396667960992e-05}. Best is trial 28 with value: 0.5325235109717867.\u001b[0m\n",
      "\u001b[32m[I 2021-03-07 06:13:41,927]\u001b[0m Trial 36 finished with value: 0.0 and parameters: {'n_layers': 3, 'n_units_l0': 79, 'dropout_l0': 0.2633640775456346, 'n_units_l1': 119, 'dropout_l1': 0.40076726672079827, 'n_units_l2': 126, 'dropout_l2': 0.37728671572442907, 'optimizer': 'SGD', 'lr': 0.00016766611434620727}. Best is trial 28 with value: 0.5325235109717867.\u001b[0m\n",
      "\u001b[32m[I 2021-03-07 06:13:56,521]\u001b[0m Trial 37 finished with value: 0.5025588536335721 and parameters: {'n_layers': 3, 'n_units_l0': 15, 'dropout_l0': 0.29951718196023797, 'n_units_l1': 83, 'dropout_l1': 0.2353362008580538, 'n_units_l2': 48, 'dropout_l2': 0.4650742129981128, 'optimizer': 'SGD', 'lr': 1.5202112999496058e-05}. Best is trial 28 with value: 0.5325235109717867.\u001b[0m\n",
      "\u001b[32m[I 2021-03-07 06:14:11,407]\u001b[0m Trial 38 finished with value: 0.0 and parameters: {'n_layers': 3, 'n_units_l0': 33, 'dropout_l0': 0.3861123405678677, 'n_units_l1': 35, 'dropout_l1': 0.3480340655965646, 'n_units_l2': 102, 'dropout_l2': 0.24845884787875716, 'optimizer': 'Adam', 'lr': 0.003523580567025947}. Best is trial 28 with value: 0.5325235109717867.\u001b[0m\n",
      "\u001b[32m[I 2021-03-07 06:14:26,139]\u001b[0m Trial 39 finished with value: 0.0 and parameters: {'n_layers': 2, 'n_units_l0': 89, 'dropout_l0': 0.47878713292671776, 'n_units_l1': 101, 'dropout_l1': 0.3809323982387037, 'optimizer': 'RMSprop', 'lr': 3.384138663647166e-05}. Best is trial 28 with value: 0.5325235109717867.\u001b[0m\n"
     ]
    }
   ],
   "source": [
    "#Create a study object and optimize the objective function.\n",
    "study = optuna.create_study(direction='maximize')\n",
    "study.optimize(objective, n_trials=40, timeout=1000)"
   ]
  },
  {
   "cell_type": "code",
   "execution_count": 21,
   "metadata": {
    "execution": {
     "iopub.execute_input": "2021-03-07T06:14:26.377217Z",
     "iopub.status.busy": "2021-03-07T06:14:26.376391Z",
     "iopub.status.idle": "2021-03-07T06:14:26.381559Z",
     "shell.execute_reply": "2021-03-07T06:14:26.380979Z"
    },
    "papermill": {
     "duration": 0.08643,
     "end_time": "2021-03-07T06:14:26.381705",
     "exception": false,
     "start_time": "2021-03-07T06:14:26.295275",
     "status": "completed"
    },
    "tags": []
   },
   "outputs": [
    {
     "name": "stdout",
     "output_type": "stream",
     "text": [
      "Value of Best trial is: 0.5325235109717867\n",
      "Best value Params: \n",
      "    n_layers: 3\n",
      "    n_units_l0: 43\n",
      "    dropout_l0: 0.33213640812986595\n",
      "    n_units_l1: 93\n",
      "    dropout_l1: 0.4335339079839952\n",
      "    n_units_l2: 69\n",
      "    dropout_l2: 0.3610087679542572\n",
      "    optimizer: SGD\n",
      "    lr: 8.785642895199805e-05\n"
     ]
    }
   ],
   "source": [
    "print(f\"Value of Best trial is: {study.best_trial.value}\")\n",
    "print(\"Best value Params: \")\n",
    "for key, value in study.best_trial.params.items():\n",
    "    print(\"    {}: {}\".format(key, value))"
   ]
  },
  {
   "cell_type": "markdown",
   "metadata": {
    "papermill": {
     "duration": 0.072689,
     "end_time": "2021-03-07T06:14:26.527202",
     "exception": false,
     "start_time": "2021-03-07T06:14:26.454513",
     "status": "completed"
    },
    "tags": []
   },
   "source": [
    "## Part 5 - Final Model and Final Predictions"
   ]
  },
  {
   "cell_type": "markdown",
   "metadata": {
    "papermill": {
     "duration": 0.072432,
     "end_time": "2021-03-07T06:14:26.673392",
     "exception": false,
     "start_time": "2021-03-07T06:14:26.600960",
     "status": "completed"
    },
    "tags": []
   },
   "source": [
    "We will use best trial parameters from above and train a model on full training data, which we will use for final predictions"
   ]
  },
  {
   "cell_type": "code",
   "execution_count": 22,
   "metadata": {
    "execution": {
     "iopub.execute_input": "2021-03-07T06:14:26.836623Z",
     "iopub.status.busy": "2021-03-07T06:14:26.835538Z",
     "iopub.status.idle": "2021-03-07T06:15:02.499543Z",
     "shell.execute_reply": "2021-03-07T06:15:02.500550Z"
    },
    "papermill": {
     "duration": 35.754135,
     "end_time": "2021-03-07T06:15:02.500742",
     "exception": false,
     "start_time": "2021-03-07T06:14:26.746607",
     "status": "completed"
    },
    "tags": []
   },
   "outputs": [
    {
     "name": "stdout",
     "output_type": "stream",
     "text": [
      "Epoch no: 0\n",
      "Epoch no: 1\n",
      "Epoch no: 2\n",
      "Epoch no: 3\n",
      "Epoch no: 4\n",
      "Epoch no: 5\n",
      "Epoch no: 6\n",
      "Epoch no: 7\n",
      "Epoch no: 8\n",
      "Epoch no: 9\n",
      "Epoch no: 10\n",
      "Epoch no: 11\n",
      "Epoch no: 12\n",
      "Epoch no: 13\n",
      "Epoch no: 14\n",
      "Epoch no: 15\n",
      "Epoch no: 16\n",
      "Epoch no: 17\n",
      "Epoch no: 18\n",
      "Epoch no: 19\n",
      "Epoch no: 20\n",
      "Epoch no: 21\n",
      "Epoch no: 22\n",
      "Epoch no: 23\n",
      "Epoch no: 24\n",
      "Epoch no: 25\n",
      "Epoch no: 26\n",
      "Epoch no: 27\n",
      "Epoch no: 28\n",
      "Epoch no: 29\n",
      "Epoch no: 30\n",
      "Epoch no: 31\n",
      "Epoch no: 32\n",
      "Epoch no: 33\n",
      "Epoch no: 34\n",
      "Epoch no: 35\n",
      "Epoch no: 36\n",
      "Epoch no: 37\n",
      "Epoch no: 38\n",
      "Epoch no: 39\n",
      "Epoch no: 40\n",
      "Epoch no: 41\n",
      "Epoch no: 42\n",
      "Epoch no: 43\n",
      "Epoch no: 44\n",
      "Epoch no: 45\n",
      "Epoch no: 46\n",
      "Epoch no: 47\n",
      "Epoch no: 48\n",
      "Epoch no: 49\n"
     ]
    }
   ],
   "source": [
    "#define constants \n",
    "use_cuda = torch.cuda.is_available()\n",
    "# DEVICE = torch.device(\"cuda:0\" if use_cuda else \"cpu\")\n",
    "DEVICE = 'cpu'\n",
    "torch.backends.cudnn.benchmark = True\n",
    "\n",
    "BATCHSIZE = 128\n",
    "CLASSES = 10\n",
    "DIR = os.getcwd()\n",
    "LOG_INTERVAL = 10\n",
    "N_TRAIN_EXAMPLES = BATCHSIZE * 30\n",
    "N_VALID_EXAMPLES = BATCHSIZE * 10\n",
    "\n",
    "params = {'batch_size': BATCHSIZE,\n",
    "          'shuffle': True,\n",
    "          'num_workers': 4}\n",
    "EPOCHS = 10\n",
    "layers = []\n",
    "#number of input neurons/features\n",
    "in_features = 30\n",
    "for i in range(2):\n",
    "    out_features = 50\n",
    "    layers.append(torch.nn.Linear(in_features, out_features))\n",
    "    layers.append(torch.nn.ReLU())\n",
    "    #set dropout for regularization\n",
    "    p = 0.4928102110636615\n",
    "    layers.append(nn.Dropout(p))\n",
    "    in_features = out_features\n",
    "\n",
    "classes = 1\n",
    "layers.append(torch.nn.Linear(in_features, classes))\n",
    "layers.append(torch.nn.Sigmoid())\n",
    "model = torch.nn.Sequential(*layers).to(DEVICE)\n",
    "lr = 0.001879813193722479\n",
    "optimizer = getattr(optim, 'Adam')(model.parameters(), lr=lr)\n",
    "    \n",
    "train_generator = torch.utils.data.DataLoader(training_set, **params)\n",
    "\n",
    "\n",
    "# Training of the model.\n",
    "for epoch in range(50):\n",
    "    print(f\"Epoch no: {epoch}\")\n",
    "    model.train()\n",
    "    for batch_idx, (data, target) in enumerate(train_generator):\n",
    "        # Limiting training data for faster epochs.\n",
    "        if batch_idx * BATCHSIZE >= N_TRAIN_EXAMPLES:\n",
    "            break\n",
    "\n",
    "        data, target = data.to(DEVICE), target.to(DEVICE)\n",
    "\n",
    "        #Actual training, propogating loss using optimizer.\n",
    "        optimizer.zero_grad()\n",
    "        output = model(data.float())\n",
    "        msloss = nn.MSELoss()\n",
    "        loss = msloss(output.float(),target.float())\n",
    "#         print(loss)\n",
    "        loss.backward()\n",
    "        optimizer.step()\n",
    "\n",
    "#we won't be validating this model as we already know this is best from above and use this to train on full data"
   ]
  },
  {
   "cell_type": "markdown",
   "metadata": {
    "papermill": {
     "duration": 0.087415,
     "end_time": "2021-03-07T06:15:02.676590",
     "exception": false,
     "start_time": "2021-03-07T06:15:02.589175",
     "status": "completed"
    },
    "tags": []
   },
   "source": [
    "**Note**:\n",
    "This is only proof of concept for finding optimized hyperparameters of a neural network, your values of best trial may differ from those of here due to inherent non-determinism. Trying for more number of trials is one of the best way to find best_trial which are optimized. "
   ]
  },
  {
   "cell_type": "code",
   "execution_count": 23,
   "metadata": {
    "execution": {
     "iopub.execute_input": "2021-03-07T06:15:02.861794Z",
     "iopub.status.busy": "2021-03-07T06:15:02.861037Z",
     "iopub.status.idle": "2021-03-07T06:15:04.207264Z",
     "shell.execute_reply": "2021-03-07T06:15:04.206692Z"
    },
    "papermill": {
     "duration": 1.442854,
     "end_time": "2021-03-07T06:15:04.207434",
     "exception": false,
     "start_time": "2021-03-07T06:15:02.764580",
     "status": "completed"
    },
    "tags": []
   },
   "outputs": [],
   "source": [
    "#predictions\n",
    "\n",
    "with torch.no_grad():\n",
    "    test_data = X_test[Train_features].to_numpy()\n",
    "    predictions = model(torch.from_numpy(test_data).float())\n",
    "    final_preds = (np.concatenate(predictions.numpy()) > 0.3).astype(int)\n",
    "    sub_df['target'] = predictions.numpy()\n",
    "    sub_df.to_csv('FinalSubmission.csv')"
   ]
  },
  {
   "cell_type": "markdown",
   "metadata": {
    "papermill": {
     "duration": 0.08773,
     "end_time": "2021-03-07T06:15:04.383162",
     "exception": false,
     "start_time": "2021-03-07T06:15:04.295432",
     "status": "completed"
    },
    "tags": []
   },
   "source": [
    "## Part 6 - Conclusion\n",
    "\n",
    "Although Neural Networks are very powerful when it comes to retaining complexity of data and learning non-linear functions from the internal patterns of training data, it is prone to overfitting and we cann't see much deeper inside of it. It's like blackbox which is very powerful yet unknown from inside. But it doesn't prevent us to make better use of it. In this notebook we have demonstrated the concept of hyperparameter optimization using optuna which can be further used to find best model for training data given the evaluation metric. If you find this notebook interesting, don't forget to upvote and give your feedback down below. Thanks for reading and your valuable time!!"
   ]
  }
 ],
 "metadata": {
  "kernelspec": {
   "display_name": "Python 3",
   "language": "python",
   "name": "python3"
  },
  "language_info": {
   "codemirror_mode": {
    "name": "ipython",
    "version": 3
   },
   "file_extension": ".py",
   "mimetype": "text/x-python",
   "name": "python",
   "nbconvert_exporter": "python",
   "pygments_lexer": "ipython3",
   "version": "3.7.9"
  },
  "papermill": {
   "default_parameters": {},
   "duration": 901.906608,
   "end_time": "2021-03-07T06:15:06.586997",
   "environment_variables": {},
   "exception": null,
   "input_path": "__notebook__.ipynb",
   "output_path": "__notebook__.ipynb",
   "parameters": {},
   "start_time": "2021-03-07T06:00:04.680389",
   "version": "2.2.2"
  },
  "widgets": {
   "application/vnd.jupyter.widget-state+json": {
    "state": {
     "154971d276694f458bae861b2e0584a9": {
      "model_module": "@jupyter-widgets/base",
      "model_module_version": "1.2.0",
      "model_name": "LayoutModel",
      "state": {
       "_model_module": "@jupyter-widgets/base",
       "_model_module_version": "1.2.0",
       "_model_name": "LayoutModel",
       "_view_count": null,
       "_view_module": "@jupyter-widgets/base",
       "_view_module_version": "1.2.0",
       "_view_name": "LayoutView",
       "align_content": null,
       "align_items": null,
       "align_self": null,
       "border": null,
       "bottom": null,
       "display": null,
       "flex": null,
       "flex_flow": null,
       "grid_area": null,
       "grid_auto_columns": null,
       "grid_auto_flow": null,
       "grid_auto_rows": null,
       "grid_column": null,
       "grid_gap": null,
       "grid_row": null,
       "grid_template_areas": null,
       "grid_template_columns": null,
       "grid_template_rows": null,
       "height": null,
       "justify_content": null,
       "justify_items": null,
       "left": null,
       "margin": null,
       "max_height": null,
       "max_width": null,
       "min_height": null,
       "min_width": null,
       "object_fit": null,
       "object_position": null,
       "order": null,
       "overflow": null,
       "overflow_x": null,
       "overflow_y": null,
       "padding": null,
       "right": null,
       "top": null,
       "visibility": null,
       "width": null
      }
     },
     "1973e06a31164205983a3743d8ff82a2": {
      "model_module": "@jupyter-widgets/controls",
      "model_module_version": "1.5.0",
      "model_name": "HTMLModel",
      "state": {
       "_dom_classes": [],
       "_model_module": "@jupyter-widgets/controls",
       "_model_module_version": "1.5.0",
       "_model_name": "HTMLModel",
       "_view_count": null,
       "_view_module": "@jupyter-widgets/controls",
       "_view_module_version": "1.5.0",
       "_view_name": "HTMLView",
       "description": "",
       "description_tooltip": null,
       "layout": "IPY_MODEL_a7676bdb2ec24617af057f980b53584e",
       "placeholder": "​",
       "style": "IPY_MODEL_b873d345deff41e7b43e8d82f455fa78",
       "value": " [100%]   00:02 -&gt; (00:00 left)"
      }
     },
     "455cd24977ea437391269e5284c4d18b": {
      "model_module": "@jupyter-widgets/base",
      "model_module_version": "1.2.0",
      "model_name": "LayoutModel",
      "state": {
       "_model_module": "@jupyter-widgets/base",
       "_model_module_version": "1.2.0",
       "_model_name": "LayoutModel",
       "_view_count": null,
       "_view_module": "@jupyter-widgets/base",
       "_view_module_version": "1.2.0",
       "_view_name": "LayoutView",
       "align_content": null,
       "align_items": null,
       "align_self": null,
       "border": null,
       "bottom": null,
       "display": "inline-flex",
       "flex": null,
       "flex_flow": "row wrap",
       "grid_area": null,
       "grid_auto_columns": null,
       "grid_auto_flow": null,
       "grid_auto_rows": null,
       "grid_column": null,
       "grid_gap": null,
       "grid_row": null,
       "grid_template_areas": null,
       "grid_template_columns": null,
       "grid_template_rows": null,
       "height": null,
       "justify_content": null,
       "justify_items": null,
       "left": null,
       "margin": null,
       "max_height": null,
       "max_width": null,
       "min_height": null,
       "min_width": null,
       "object_fit": null,
       "object_position": null,
       "order": null,
       "overflow": null,
       "overflow_x": null,
       "overflow_y": null,
       "padding": null,
       "right": null,
       "top": null,
       "visibility": null,
       "width": "100%"
      }
     },
     "5a24082fee5d454fb61907c74e81e836": {
      "model_module": "@jupyter-widgets/base",
      "model_module_version": "1.2.0",
      "model_name": "LayoutModel",
      "state": {
       "_model_module": "@jupyter-widgets/base",
       "_model_module_version": "1.2.0",
       "_model_name": "LayoutModel",
       "_view_count": null,
       "_view_module": "@jupyter-widgets/base",
       "_view_module_version": "1.2.0",
       "_view_name": "LayoutView",
       "align_content": null,
       "align_items": null,
       "align_self": null,
       "border": null,
       "bottom": null,
       "display": null,
       "flex": "2",
       "flex_flow": null,
       "grid_area": null,
       "grid_auto_columns": null,
       "grid_auto_flow": null,
       "grid_auto_rows": null,
       "grid_column": null,
       "grid_gap": null,
       "grid_row": null,
       "grid_template_areas": null,
       "grid_template_columns": null,
       "grid_template_rows": null,
       "height": null,
       "justify_content": null,
       "justify_items": null,
       "left": null,
       "margin": null,
       "max_height": null,
       "max_width": null,
       "min_height": null,
       "min_width": null,
       "object_fit": null,
       "object_position": null,
       "order": null,
       "overflow": null,
       "overflow_x": null,
       "overflow_y": null,
       "padding": null,
       "right": null,
       "top": null,
       "visibility": null,
       "width": null
      }
     },
     "676040062b3446e3a04b919d501aa1a5": {
      "model_module": "@jupyter-widgets/controls",
      "model_module_version": "1.5.0",
      "model_name": "ProgressStyleModel",
      "state": {
       "_model_module": "@jupyter-widgets/controls",
       "_model_module_version": "1.5.0",
       "_model_name": "ProgressStyleModel",
       "_view_count": null,
       "_view_module": "@jupyter-widgets/base",
       "_view_module_version": "1.2.0",
       "_view_name": "StyleView",
       "bar_color": null,
       "description_width": ""
      }
     },
     "8ed4192a6dc342e7b16abbdb26acdc22": {
      "model_module": "@jupyter-widgets/controls",
      "model_module_version": "1.5.0",
      "model_name": "HBoxModel",
      "state": {
       "_dom_classes": [],
       "_model_module": "@jupyter-widgets/controls",
       "_model_module_version": "1.5.0",
       "_model_name": "HBoxModel",
       "_view_count": null,
       "_view_module": "@jupyter-widgets/controls",
       "_view_module_version": "1.5.0",
       "_view_name": "HBoxView",
       "box_style": "",
       "children": [
        "IPY_MODEL_d53342f2f8f14bfc93f055272cf47389",
        "IPY_MODEL_be7bb6613bb7451691c3b026a3c63dee",
        "IPY_MODEL_1973e06a31164205983a3743d8ff82a2"
       ],
       "layout": "IPY_MODEL_455cd24977ea437391269e5284c4d18b"
      }
     },
     "a7676bdb2ec24617af057f980b53584e": {
      "model_module": "@jupyter-widgets/base",
      "model_module_version": "1.2.0",
      "model_name": "LayoutModel",
      "state": {
       "_model_module": "@jupyter-widgets/base",
       "_model_module_version": "1.2.0",
       "_model_name": "LayoutModel",
       "_view_count": null,
       "_view_module": "@jupyter-widgets/base",
       "_view_module_version": "1.2.0",
       "_view_name": "LayoutView",
       "align_content": null,
       "align_items": null,
       "align_self": null,
       "border": null,
       "bottom": null,
       "display": null,
       "flex": null,
       "flex_flow": null,
       "grid_area": null,
       "grid_auto_columns": null,
       "grid_auto_flow": null,
       "grid_auto_rows": null,
       "grid_column": null,
       "grid_gap": null,
       "grid_row": null,
       "grid_template_areas": null,
       "grid_template_columns": null,
       "grid_template_rows": null,
       "height": null,
       "justify_content": null,
       "justify_items": null,
       "left": null,
       "margin": null,
       "max_height": null,
       "max_width": null,
       "min_height": null,
       "min_width": null,
       "object_fit": null,
       "object_position": null,
       "order": null,
       "overflow": null,
       "overflow_x": null,
       "overflow_y": null,
       "padding": null,
       "right": null,
       "top": null,
       "visibility": null,
       "width": null
      }
     },
     "b56768fa0446427383ac7dae6b7e73b2": {
      "model_module": "@jupyter-widgets/controls",
      "model_module_version": "1.5.0",
      "model_name": "DescriptionStyleModel",
      "state": {
       "_model_module": "@jupyter-widgets/controls",
       "_model_module_version": "1.5.0",
       "_model_name": "DescriptionStyleModel",
       "_view_count": null,
       "_view_module": "@jupyter-widgets/base",
       "_view_module_version": "1.2.0",
       "_view_name": "StyleView",
       "description_width": ""
      }
     },
     "b873d345deff41e7b43e8d82f455fa78": {
      "model_module": "@jupyter-widgets/controls",
      "model_module_version": "1.5.0",
      "model_name": "DescriptionStyleModel",
      "state": {
       "_model_module": "@jupyter-widgets/controls",
       "_model_module_version": "1.5.0",
       "_model_name": "DescriptionStyleModel",
       "_view_count": null,
       "_view_module": "@jupyter-widgets/base",
       "_view_module_version": "1.2.0",
       "_view_name": "StyleView",
       "description_width": ""
      }
     },
     "be7bb6613bb7451691c3b026a3c63dee": {
      "model_module": "@jupyter-widgets/controls",
      "model_module_version": "1.5.0",
      "model_name": "FloatProgressModel",
      "state": {
       "_dom_classes": [],
       "_model_module": "@jupyter-widgets/controls",
       "_model_module_version": "1.5.0",
       "_model_name": "FloatProgressModel",
       "_view_count": null,
       "_view_module": "@jupyter-widgets/controls",
       "_view_module_version": "1.5.0",
       "_view_name": "ProgressView",
       "bar_style": "success",
       "description": "",
       "description_tooltip": null,
       "layout": "IPY_MODEL_5a24082fee5d454fb61907c74e81e836",
       "max": 1.0,
       "min": 0.0,
       "orientation": "horizontal",
       "style": "IPY_MODEL_676040062b3446e3a04b919d501aa1a5",
       "value": 1.0
      }
     },
     "d53342f2f8f14bfc93f055272cf47389": {
      "model_module": "@jupyter-widgets/controls",
      "model_module_version": "1.5.0",
      "model_name": "HTMLModel",
      "state": {
       "_dom_classes": [],
       "_model_module": "@jupyter-widgets/controls",
       "_model_module_version": "1.5.0",
       "_model_name": "HTMLModel",
       "_view_count": null,
       "_view_module": "@jupyter-widgets/controls",
       "_view_module_version": "1.5.0",
       "_view_name": "HTMLView",
       "description": "",
       "description_tooltip": null,
       "layout": "IPY_MODEL_154971d276694f458bae861b2e0584a9",
       "placeholder": "​",
       "style": "IPY_MODEL_b56768fa0446427383ac7dae6b7e73b2",
       "value": "Done! Use &#x27;show&#x27; commands to display/save.   "
      }
     }
    },
    "version_major": 2,
    "version_minor": 0
   }
  }
 },
 "nbformat": 4,
 "nbformat_minor": 4
}
